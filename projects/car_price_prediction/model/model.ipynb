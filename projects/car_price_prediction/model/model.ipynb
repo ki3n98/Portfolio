{
 "cells": [
  {
   "cell_type": "code",
   "execution_count": 1,
   "id": "1835a5d5-6423-41bf-b8fd-5a9a0fe05a1b",
   "metadata": {
    "tags": []
   },
   "outputs": [],
   "source": [
    "import pandas as pd\n",
    "import matplotlib.pyplot as plt\n",
    "import seaborn as sns"
   ]
  },
  {
   "cell_type": "code",
   "execution_count": 2,
   "id": "459a5b8f-ff84-4d4d-8ad6-fc4c0323d68c",
   "metadata": {
    "tags": []
   },
   "outputs": [
    {
     "data": {
      "text/html": [
       "<div>\n",
       "<style scoped>\n",
       "    .dataframe tbody tr th:only-of-type {\n",
       "        vertical-align: middle;\n",
       "    }\n",
       "\n",
       "    .dataframe tbody tr th {\n",
       "        vertical-align: top;\n",
       "    }\n",
       "\n",
       "    .dataframe thead th {\n",
       "        text-align: right;\n",
       "    }\n",
       "</style>\n",
       "<table border=\"1\" class=\"dataframe\">\n",
       "  <thead>\n",
       "    <tr style=\"text-align: right;\">\n",
       "      <th></th>\n",
       "      <th>ID</th>\n",
       "      <th>Price</th>\n",
       "      <th>Levy</th>\n",
       "      <th>Manufacturer</th>\n",
       "      <th>Model</th>\n",
       "      <th>Prod. year</th>\n",
       "      <th>Category</th>\n",
       "      <th>Leather interior</th>\n",
       "      <th>Fuel type</th>\n",
       "      <th>Engine volume</th>\n",
       "      <th>Mileage</th>\n",
       "      <th>Cylinders</th>\n",
       "      <th>Gear box type</th>\n",
       "      <th>Drive wheels</th>\n",
       "      <th>Doors</th>\n",
       "      <th>Wheel</th>\n",
       "      <th>Color</th>\n",
       "      <th>Airbags</th>\n",
       "    </tr>\n",
       "  </thead>\n",
       "  <tbody>\n",
       "    <tr>\n",
       "      <th>0</th>\n",
       "      <td>45654403</td>\n",
       "      <td>13328</td>\n",
       "      <td>1399</td>\n",
       "      <td>LEXUS</td>\n",
       "      <td>RX 450</td>\n",
       "      <td>2010</td>\n",
       "      <td>Jeep</td>\n",
       "      <td>Yes</td>\n",
       "      <td>Hybrid</td>\n",
       "      <td>3.5</td>\n",
       "      <td>186005 km</td>\n",
       "      <td>6.0</td>\n",
       "      <td>Automatic</td>\n",
       "      <td>4x4</td>\n",
       "      <td>04-May</td>\n",
       "      <td>Left wheel</td>\n",
       "      <td>Silver</td>\n",
       "      <td>12</td>\n",
       "    </tr>\n",
       "    <tr>\n",
       "      <th>1</th>\n",
       "      <td>44731507</td>\n",
       "      <td>16621</td>\n",
       "      <td>1018</td>\n",
       "      <td>CHEVROLET</td>\n",
       "      <td>Equinox</td>\n",
       "      <td>2011</td>\n",
       "      <td>Jeep</td>\n",
       "      <td>No</td>\n",
       "      <td>Petrol</td>\n",
       "      <td>3</td>\n",
       "      <td>192000 km</td>\n",
       "      <td>6.0</td>\n",
       "      <td>Tiptronic</td>\n",
       "      <td>4x4</td>\n",
       "      <td>04-May</td>\n",
       "      <td>Left wheel</td>\n",
       "      <td>Black</td>\n",
       "      <td>8</td>\n",
       "    </tr>\n",
       "    <tr>\n",
       "      <th>2</th>\n",
       "      <td>45774419</td>\n",
       "      <td>8467</td>\n",
       "      <td>-</td>\n",
       "      <td>HONDA</td>\n",
       "      <td>FIT</td>\n",
       "      <td>2006</td>\n",
       "      <td>Hatchback</td>\n",
       "      <td>No</td>\n",
       "      <td>Petrol</td>\n",
       "      <td>1.3</td>\n",
       "      <td>200000 km</td>\n",
       "      <td>4.0</td>\n",
       "      <td>Variator</td>\n",
       "      <td>Front</td>\n",
       "      <td>04-May</td>\n",
       "      <td>Right-hand drive</td>\n",
       "      <td>Black</td>\n",
       "      <td>2</td>\n",
       "    </tr>\n",
       "    <tr>\n",
       "      <th>3</th>\n",
       "      <td>45769185</td>\n",
       "      <td>3607</td>\n",
       "      <td>862</td>\n",
       "      <td>FORD</td>\n",
       "      <td>Escape</td>\n",
       "      <td>2011</td>\n",
       "      <td>Jeep</td>\n",
       "      <td>Yes</td>\n",
       "      <td>Hybrid</td>\n",
       "      <td>2.5</td>\n",
       "      <td>168966 km</td>\n",
       "      <td>4.0</td>\n",
       "      <td>Automatic</td>\n",
       "      <td>4x4</td>\n",
       "      <td>04-May</td>\n",
       "      <td>Left wheel</td>\n",
       "      <td>White</td>\n",
       "      <td>0</td>\n",
       "    </tr>\n",
       "    <tr>\n",
       "      <th>4</th>\n",
       "      <td>45809263</td>\n",
       "      <td>11726</td>\n",
       "      <td>446</td>\n",
       "      <td>HONDA</td>\n",
       "      <td>FIT</td>\n",
       "      <td>2014</td>\n",
       "      <td>Hatchback</td>\n",
       "      <td>Yes</td>\n",
       "      <td>Petrol</td>\n",
       "      <td>1.3</td>\n",
       "      <td>91901 km</td>\n",
       "      <td>4.0</td>\n",
       "      <td>Automatic</td>\n",
       "      <td>Front</td>\n",
       "      <td>04-May</td>\n",
       "      <td>Left wheel</td>\n",
       "      <td>Silver</td>\n",
       "      <td>4</td>\n",
       "    </tr>\n",
       "  </tbody>\n",
       "</table>\n",
       "</div>"
      ],
      "text/plain": [
       "         ID  Price  Levy Manufacturer    Model  Prod. year   Category  \\\n",
       "0  45654403  13328  1399        LEXUS   RX 450        2010       Jeep   \n",
       "1  44731507  16621  1018    CHEVROLET  Equinox        2011       Jeep   \n",
       "2  45774419   8467     -        HONDA      FIT        2006  Hatchback   \n",
       "3  45769185   3607   862         FORD   Escape        2011       Jeep   \n",
       "4  45809263  11726   446        HONDA      FIT        2014  Hatchback   \n",
       "\n",
       "  Leather interior Fuel type Engine volume    Mileage  Cylinders  \\\n",
       "0              Yes    Hybrid           3.5  186005 km        6.0   \n",
       "1               No    Petrol             3  192000 km        6.0   \n",
       "2               No    Petrol           1.3  200000 km        4.0   \n",
       "3              Yes    Hybrid           2.5  168966 km        4.0   \n",
       "4              Yes    Petrol           1.3   91901 km        4.0   \n",
       "\n",
       "  Gear box type Drive wheels   Doors             Wheel   Color  Airbags  \n",
       "0     Automatic          4x4  04-May        Left wheel  Silver       12  \n",
       "1     Tiptronic          4x4  04-May        Left wheel   Black        8  \n",
       "2      Variator        Front  04-May  Right-hand drive   Black        2  \n",
       "3     Automatic          4x4  04-May        Left wheel   White        0  \n",
       "4     Automatic        Front  04-May        Left wheel  Silver        4  "
      ]
     },
     "execution_count": 2,
     "metadata": {},
     "output_type": "execute_result"
    }
   ],
   "source": [
    "df = pd.read_csv('../dataset/car_price_prediction.csv')\n",
    "df.head()"
   ]
  },
  {
   "cell_type": "markdown",
   "id": "a7af9558-a197-4569-811f-c507db41c9ab",
   "metadata": {},
   "source": [
    "# Data Cleaning "
   ]
  },
  {
   "cell_type": "code",
   "execution_count": 3,
   "id": "e902b9ce-fcc7-4401-a149-b0ef288cd777",
   "metadata": {
    "tags": []
   },
   "outputs": [
    {
     "name": "stdout",
     "output_type": "stream",
     "text": [
      "<class 'pandas.core.frame.DataFrame'>\n",
      "RangeIndex: 19237 entries, 0 to 19236\n",
      "Data columns (total 18 columns):\n",
      " #   Column            Non-Null Count  Dtype  \n",
      "---  ------            --------------  -----  \n",
      " 0   ID                19237 non-null  int64  \n",
      " 1   Price             19237 non-null  int64  \n",
      " 2   Levy              19237 non-null  object \n",
      " 3   Manufacturer      19237 non-null  object \n",
      " 4   Model             19237 non-null  object \n",
      " 5   Prod. year        19237 non-null  int64  \n",
      " 6   Category          19237 non-null  object \n",
      " 7   Leather interior  19237 non-null  object \n",
      " 8   Fuel type         19237 non-null  object \n",
      " 9   Engine volume     19237 non-null  object \n",
      " 10  Mileage           19237 non-null  object \n",
      " 11  Cylinders         19237 non-null  float64\n",
      " 12  Gear box type     19237 non-null  object \n",
      " 13  Drive wheels      19237 non-null  object \n",
      " 14  Doors             19237 non-null  object \n",
      " 15  Wheel             19237 non-null  object \n",
      " 16  Color             19237 non-null  object \n",
      " 17  Airbags           19237 non-null  int64  \n",
      "dtypes: float64(1), int64(4), object(13)\n",
      "memory usage: 2.6+ MB\n"
     ]
    }
   ],
   "source": [
    "df.info()"
   ]
  },
  {
   "cell_type": "code",
   "execution_count": 4,
   "id": "22327c4c-9c5c-46bd-ae45-24c867ce43ce",
   "metadata": {
    "tags": []
   },
   "outputs": [
    {
     "data": {
      "text/plain": [
       "ID                  0\n",
       "Price               0\n",
       "Levy                0\n",
       "Manufacturer        0\n",
       "Model               0\n",
       "Prod. year          0\n",
       "Category            0\n",
       "Leather interior    0\n",
       "Fuel type           0\n",
       "Engine volume       0\n",
       "Mileage             0\n",
       "Cylinders           0\n",
       "Gear box type       0\n",
       "Drive wheels        0\n",
       "Doors               0\n",
       "Wheel               0\n",
       "Color               0\n",
       "Airbags             0\n",
       "dtype: int64"
      ]
     },
     "execution_count": 4,
     "metadata": {},
     "output_type": "execute_result"
    }
   ],
   "source": [
    "df.isnull().sum()"
   ]
  },
  {
   "cell_type": "code",
   "execution_count": 5,
   "id": "07ac31d3-bd17-477b-aff6-5666399d837a",
   "metadata": {
    "tags": []
   },
   "outputs": [
    {
     "data": {
      "text/plain": [
       "313"
      ]
     },
     "execution_count": 5,
     "metadata": {},
     "output_type": "execute_result"
    }
   ],
   "source": [
    "df.duplicated().sum()"
   ]
  },
  {
   "cell_type": "code",
   "execution_count": 6,
   "id": "15194416-6bfb-48a7-958a-e9c1d90ed3ec",
   "metadata": {
    "tags": []
   },
   "outputs": [],
   "source": [
    "df = df.drop_duplicates()"
   ]
  },
  {
   "cell_type": "code",
   "execution_count": 7,
   "id": "a39d6884-248e-48c5-891d-8c48b3204f09",
   "metadata": {
    "tags": []
   },
   "outputs": [
    {
     "data": {
      "text/html": [
       "<div>\n",
       "<style scoped>\n",
       "    .dataframe tbody tr th:only-of-type {\n",
       "        vertical-align: middle;\n",
       "    }\n",
       "\n",
       "    .dataframe tbody tr th {\n",
       "        vertical-align: top;\n",
       "    }\n",
       "\n",
       "    .dataframe thead th {\n",
       "        text-align: right;\n",
       "    }\n",
       "</style>\n",
       "<table border=\"1\" class=\"dataframe\">\n",
       "  <thead>\n",
       "    <tr style=\"text-align: right;\">\n",
       "      <th></th>\n",
       "      <th>Price</th>\n",
       "      <th>Levy</th>\n",
       "      <th>Manufacturer</th>\n",
       "      <th>Model</th>\n",
       "      <th>Prod. year</th>\n",
       "      <th>Category</th>\n",
       "      <th>Leather interior</th>\n",
       "      <th>Fuel type</th>\n",
       "      <th>Engine volume</th>\n",
       "      <th>Mileage</th>\n",
       "      <th>Cylinders</th>\n",
       "      <th>Gear box type</th>\n",
       "      <th>Drive wheels</th>\n",
       "      <th>Doors</th>\n",
       "      <th>Wheel</th>\n",
       "      <th>Color</th>\n",
       "      <th>Airbags</th>\n",
       "    </tr>\n",
       "  </thead>\n",
       "  <tbody>\n",
       "    <tr>\n",
       "      <th>0</th>\n",
       "      <td>13328</td>\n",
       "      <td>1399</td>\n",
       "      <td>LEXUS</td>\n",
       "      <td>RX 450</td>\n",
       "      <td>2010</td>\n",
       "      <td>Jeep</td>\n",
       "      <td>Yes</td>\n",
       "      <td>Hybrid</td>\n",
       "      <td>3.5</td>\n",
       "      <td>186005 km</td>\n",
       "      <td>6.0</td>\n",
       "      <td>Automatic</td>\n",
       "      <td>4x4</td>\n",
       "      <td>04-May</td>\n",
       "      <td>Left wheel</td>\n",
       "      <td>Silver</td>\n",
       "      <td>12</td>\n",
       "    </tr>\n",
       "    <tr>\n",
       "      <th>1</th>\n",
       "      <td>16621</td>\n",
       "      <td>1018</td>\n",
       "      <td>CHEVROLET</td>\n",
       "      <td>Equinox</td>\n",
       "      <td>2011</td>\n",
       "      <td>Jeep</td>\n",
       "      <td>No</td>\n",
       "      <td>Petrol</td>\n",
       "      <td>3</td>\n",
       "      <td>192000 km</td>\n",
       "      <td>6.0</td>\n",
       "      <td>Tiptronic</td>\n",
       "      <td>4x4</td>\n",
       "      <td>04-May</td>\n",
       "      <td>Left wheel</td>\n",
       "      <td>Black</td>\n",
       "      <td>8</td>\n",
       "    </tr>\n",
       "    <tr>\n",
       "      <th>2</th>\n",
       "      <td>8467</td>\n",
       "      <td>-</td>\n",
       "      <td>HONDA</td>\n",
       "      <td>FIT</td>\n",
       "      <td>2006</td>\n",
       "      <td>Hatchback</td>\n",
       "      <td>No</td>\n",
       "      <td>Petrol</td>\n",
       "      <td>1.3</td>\n",
       "      <td>200000 km</td>\n",
       "      <td>4.0</td>\n",
       "      <td>Variator</td>\n",
       "      <td>Front</td>\n",
       "      <td>04-May</td>\n",
       "      <td>Right-hand drive</td>\n",
       "      <td>Black</td>\n",
       "      <td>2</td>\n",
       "    </tr>\n",
       "  </tbody>\n",
       "</table>\n",
       "</div>"
      ],
      "text/plain": [
       "   Price  Levy Manufacturer    Model  Prod. year   Category Leather interior  \\\n",
       "0  13328  1399        LEXUS   RX 450        2010       Jeep              Yes   \n",
       "1  16621  1018    CHEVROLET  Equinox        2011       Jeep               No   \n",
       "2   8467     -        HONDA      FIT        2006  Hatchback               No   \n",
       "\n",
       "  Fuel type Engine volume    Mileage  Cylinders Gear box type Drive wheels  \\\n",
       "0    Hybrid           3.5  186005 km        6.0     Automatic          4x4   \n",
       "1    Petrol             3  192000 km        6.0     Tiptronic          4x4   \n",
       "2    Petrol           1.3  200000 km        4.0      Variator        Front   \n",
       "\n",
       "    Doors             Wheel   Color  Airbags  \n",
       "0  04-May        Left wheel  Silver       12  \n",
       "1  04-May        Left wheel   Black        8  \n",
       "2  04-May  Right-hand drive   Black        2  "
      ]
     },
     "execution_count": 7,
     "metadata": {},
     "output_type": "execute_result"
    }
   ],
   "source": [
    "df = df.drop(columns='ID')\n",
    "df.head(3)"
   ]
  },
  {
   "cell_type": "markdown",
   "id": "e76eb7fc-78ef-495a-85f2-07e0afdd1c71",
   "metadata": {},
   "source": [
    "### Convert Levy to int"
   ]
  },
  {
   "cell_type": "code",
   "execution_count": 8,
   "id": "85f107ac-5c06-4e0d-9a80-7a50ec97d5ce",
   "metadata": {
    "tags": []
   },
   "outputs": [
    {
     "data": {
      "text/plain": [
       "array(['1399', '1018', '-', '862', '446', '891', '761', '751', '394',\n",
       "       '1053', '1055', '1079', '810', '2386', '1850', '531', '586',\n",
       "       '1249', '2455', '583', '1537', '1288', '915', '1750', '707',\n",
       "       '1077', '1486', '1091', '650', '382', '1436', '1194', '503',\n",
       "       '1017', '1104', '639', '629', '919', '781', '530', '640', '765',\n",
       "       '777', '779', '934', '769', '645', '1185', '1324', '830', '1187',\n",
       "       '1111', '760', '642', '1604', '1095', '966', '473', '1138', '1811',\n",
       "       '988', '917', '1156', '687', '11714', '836', '1347', '2866',\n",
       "       '1646', '259', '609', '697', '585', '475', '690', '308', '1823',\n",
       "       '1361', '1273', '924', '584', '2078', '831', '1172', '893', '1872',\n",
       "       '1885', '1266', '447', '2148', '1730', '730', '289', '502', '333',\n",
       "       '1325', '247', '879', '1342', '1327', '1598', '1514', '1058',\n",
       "       '738', '1935', '481', '1522', '1282', '456', '880', '900', '798',\n",
       "       '1277', '442', '1051', '790', '1292', '1047', '528', '1211',\n",
       "       '1493', '1793', '574', '930', '1998', '271', '706', '1481', '1677',\n",
       "       '1661', '1286', '1408', '1090', '595', '1451', '1267', '993',\n",
       "       '1714', '878', '641', '749', '1511', '603', '353', '877', '1236',\n",
       "       '1141', '397', '784', '1024', '1357', '1301', '770', '922', '1438',\n",
       "       '753', '607', '1363', '638', '490', '431', '565', '517', '833',\n",
       "       '489', '1760', '986', '1841', '1620', '1360', '474', '1099', '978',\n",
       "       '1624', '1946', '1268', '1307', '696', '649', '666', '2151', '551',\n",
       "       '800', '971', '1323', '2377', '1845', '1083', '694', '463', '419',\n",
       "       '345', '1515', '1505', '2056', '1203', '729', '460', '1356', '876',\n",
       "       '911', '1190', '780', '448', '2410', '1848', '1148', '834', '1275',\n",
       "       '1028', '1197', '724', '890', '1705', '505', '789', '2959', '518',\n",
       "       '461', '1719', '2858', '3156', '2225', '2177', '1968', '1888',\n",
       "       '1308', '2736', '1103', '557', '2195', '843', '1664', '723',\n",
       "       '4508', '562', '501', '2018', '1076', '1202', '3301', '691',\n",
       "       '1440', '1869', '1178', '418', '1820', '1413', '488', '1304',\n",
       "       '363', '2108', '521', '1659', '87', '1411', '1528', '3292', '7058',\n",
       "       '1578', '627', '874', '1996', '1488', '5679', '1234', '5603',\n",
       "       '400', '889', '3268', '875', '949', '2265', '441', '742', '425',\n",
       "       '2476', '2971', '614', '1816', '1375', '1405', '2297', '1062',\n",
       "       '1113', '420', '2469', '658', '1951', '2670', '2578', '1995',\n",
       "       '1032', '994', '1011', '2421', '1296', '155', '494', '426', '1086',\n",
       "       '961', '2236', '1829', '764', '1834', '1054', '617', '1529',\n",
       "       '2266', '637', '626', '1832', '1016', '2002', '1756', '746',\n",
       "       '1285', '2690', '1118', '5332', '980', '1807', '970', '1228',\n",
       "       '1195', '1132', '1768', '1384', '1080', '7063', '1817', '1452',\n",
       "       '1975', '1368', '702', '1974', '1781', '1036', '944', '663', '364',\n",
       "       '1539', '1345', '1680', '2209', '741', '1575', '695', '1317',\n",
       "       '294', '1525', '424', '997', '1473', '1552', '2819', '2188',\n",
       "       '1668', '3057', '799', '1502', '2606', '552', '1694', '1759',\n",
       "       '1110', '399', '1470', '1174', '5877', '1474', '1688', '526',\n",
       "       '686', '5908', '1107', '2070', '1468', '1246', '1685', '556',\n",
       "       '1533', '1917', '1346', '732', '692', '579', '421', '362', '3505',\n",
       "       '1855', '2711', '1586', '3739', '681', '1708', '2278', '1701',\n",
       "       '722', '1482', '928', '827', '832', '527', '604', '173', '1341',\n",
       "       '3329', '1553', '859', '167', '916', '828', '2082', '1176', '1108',\n",
       "       '975', '3008', '1516', '2269', '1699', '2073', '1031', '1503',\n",
       "       '2364', '1030', '1442', '5666', '2715', '1437', '2067', '1426',\n",
       "       '2908', '1279', '866', '4283', '279', '2658', '3015', '2004',\n",
       "       '1391', '4736', '748', '1466', '644', '683', '2705', '1297', '731',\n",
       "       '1252', '2216', '3141', '3273', '1518', '1723', '1588', '972',\n",
       "       '682', '1094', '668', '175', '967', '402', '3894', '1960', '1599',\n",
       "       '2000', '2084', '1621', '714', '1109', '3989', '873', '1572',\n",
       "       '1163', '1991', '1716', '1673', '2562', '2874', '965', '462',\n",
       "       '605', '1948', '1736', '3518', '2054', '2467', '1681', '1272',\n",
       "       '1205', '750', '2156', '2566', '115', '524', '3184', '676', '1678',\n",
       "       '612', '328', '955', '1441', '1675', '3965', '2909', '623', '822',\n",
       "       '867', '3025', '1993', '792', '636', '4057', '3743', '2337',\n",
       "       '2570', '2418', '2472', '3910', '1662', '2123', '2628', '3208',\n",
       "       '2080', '3699', '2913', '864', '2505', '870', '7536', '1924',\n",
       "       '1671', '1064', '1836', '1866', '4741', '841', '1369', '5681',\n",
       "       '3112', '1366', '2223', '1198', '1039', '3811', '3571', '1387',\n",
       "       '1171', '1365', '1531', '1590', '11706', '2308', '4860', '1641',\n",
       "       '1045', '1901'], dtype=object)"
      ]
     },
     "execution_count": 8,
     "metadata": {},
     "output_type": "execute_result"
    }
   ],
   "source": [
    "df['Levy'].unique()"
   ]
  },
  {
   "cell_type": "code",
   "execution_count": 9,
   "id": "afad143a-a3b5-4327-b130-4c405b74db9b",
   "metadata": {
    "tags": []
   },
   "outputs": [],
   "source": [
    "df['Levy'] = df['Levy'].apply(lambda x: 0 if x == '-' else x).astype(int)"
   ]
  },
  {
   "cell_type": "markdown",
   "id": "3427086e-4c26-442a-a951-ba6dc15f4ee1",
   "metadata": {},
   "source": [
    "### Prod. year can be convert to vehicle age. Vehicle age is a better feature i think "
   ]
  },
  {
   "cell_type": "code",
   "execution_count": 10,
   "id": "5a0b1ad6-fef7-4eef-bfb4-88d85e854dfc",
   "metadata": {
    "tags": []
   },
   "outputs": [
    {
     "data": {
      "text/plain": [
       "count    18924.000000\n",
       "mean      2010.914236\n",
       "std          5.665749\n",
       "min       1939.000000\n",
       "25%       2009.000000\n",
       "50%       2012.000000\n",
       "75%       2015.000000\n",
       "max       2020.000000\n",
       "Name: Prod. year, dtype: float64"
      ]
     },
     "execution_count": 10,
     "metadata": {},
     "output_type": "execute_result"
    }
   ],
   "source": [
    "df['Prod. year'].describe()"
   ]
  },
  {
   "cell_type": "code",
   "execution_count": 11,
   "id": "a2a9d923-9e66-4fa6-ae9e-ce0b322b964e",
   "metadata": {
    "tags": []
   },
   "outputs": [],
   "source": [
    "df['Vehicle_age'] = df['Prod. year'].apply(lambda x:2022 - x)"
   ]
  },
  {
   "cell_type": "code",
   "execution_count": 12,
   "id": "fdf590cc-4099-4389-89bb-b7e5d2470c7a",
   "metadata": {
    "tags": []
   },
   "outputs": [
    {
     "data": {
      "text/html": [
       "<div>\n",
       "<style scoped>\n",
       "    .dataframe tbody tr th:only-of-type {\n",
       "        vertical-align: middle;\n",
       "    }\n",
       "\n",
       "    .dataframe tbody tr th {\n",
       "        vertical-align: top;\n",
       "    }\n",
       "\n",
       "    .dataframe thead th {\n",
       "        text-align: right;\n",
       "    }\n",
       "</style>\n",
       "<table border=\"1\" class=\"dataframe\">\n",
       "  <thead>\n",
       "    <tr style=\"text-align: right;\">\n",
       "      <th></th>\n",
       "      <th>Price</th>\n",
       "      <th>Levy</th>\n",
       "      <th>Manufacturer</th>\n",
       "      <th>Model</th>\n",
       "      <th>Prod. year</th>\n",
       "      <th>Category</th>\n",
       "      <th>Leather interior</th>\n",
       "      <th>Fuel type</th>\n",
       "      <th>Engine volume</th>\n",
       "      <th>Mileage</th>\n",
       "      <th>Cylinders</th>\n",
       "      <th>Gear box type</th>\n",
       "      <th>Drive wheels</th>\n",
       "      <th>Doors</th>\n",
       "      <th>Wheel</th>\n",
       "      <th>Color</th>\n",
       "      <th>Airbags</th>\n",
       "      <th>Vehicle_age</th>\n",
       "    </tr>\n",
       "  </thead>\n",
       "  <tbody>\n",
       "    <tr>\n",
       "      <th>0</th>\n",
       "      <td>13328</td>\n",
       "      <td>1399</td>\n",
       "      <td>LEXUS</td>\n",
       "      <td>RX 450</td>\n",
       "      <td>2010</td>\n",
       "      <td>Jeep</td>\n",
       "      <td>Yes</td>\n",
       "      <td>Hybrid</td>\n",
       "      <td>3.5</td>\n",
       "      <td>186005 km</td>\n",
       "      <td>6.0</td>\n",
       "      <td>Automatic</td>\n",
       "      <td>4x4</td>\n",
       "      <td>04-May</td>\n",
       "      <td>Left wheel</td>\n",
       "      <td>Silver</td>\n",
       "      <td>12</td>\n",
       "      <td>12</td>\n",
       "    </tr>\n",
       "    <tr>\n",
       "      <th>1</th>\n",
       "      <td>16621</td>\n",
       "      <td>1018</td>\n",
       "      <td>CHEVROLET</td>\n",
       "      <td>Equinox</td>\n",
       "      <td>2011</td>\n",
       "      <td>Jeep</td>\n",
       "      <td>No</td>\n",
       "      <td>Petrol</td>\n",
       "      <td>3</td>\n",
       "      <td>192000 km</td>\n",
       "      <td>6.0</td>\n",
       "      <td>Tiptronic</td>\n",
       "      <td>4x4</td>\n",
       "      <td>04-May</td>\n",
       "      <td>Left wheel</td>\n",
       "      <td>Black</td>\n",
       "      <td>8</td>\n",
       "      <td>11</td>\n",
       "    </tr>\n",
       "    <tr>\n",
       "      <th>2</th>\n",
       "      <td>8467</td>\n",
       "      <td>0</td>\n",
       "      <td>HONDA</td>\n",
       "      <td>FIT</td>\n",
       "      <td>2006</td>\n",
       "      <td>Hatchback</td>\n",
       "      <td>No</td>\n",
       "      <td>Petrol</td>\n",
       "      <td>1.3</td>\n",
       "      <td>200000 km</td>\n",
       "      <td>4.0</td>\n",
       "      <td>Variator</td>\n",
       "      <td>Front</td>\n",
       "      <td>04-May</td>\n",
       "      <td>Right-hand drive</td>\n",
       "      <td>Black</td>\n",
       "      <td>2</td>\n",
       "      <td>16</td>\n",
       "    </tr>\n",
       "  </tbody>\n",
       "</table>\n",
       "</div>"
      ],
      "text/plain": [
       "   Price  Levy Manufacturer    Model  Prod. year   Category Leather interior  \\\n",
       "0  13328  1399        LEXUS   RX 450        2010       Jeep              Yes   \n",
       "1  16621  1018    CHEVROLET  Equinox        2011       Jeep               No   \n",
       "2   8467     0        HONDA      FIT        2006  Hatchback               No   \n",
       "\n",
       "  Fuel type Engine volume    Mileage  Cylinders Gear box type Drive wheels  \\\n",
       "0    Hybrid           3.5  186005 km        6.0     Automatic          4x4   \n",
       "1    Petrol             3  192000 km        6.0     Tiptronic          4x4   \n",
       "2    Petrol           1.3  200000 km        4.0      Variator        Front   \n",
       "\n",
       "    Doors             Wheel   Color  Airbags  Vehicle_age  \n",
       "0  04-May        Left wheel  Silver       12           12  \n",
       "1  04-May        Left wheel   Black        8           11  \n",
       "2  04-May  Right-hand drive   Black        2           16  "
      ]
     },
     "execution_count": 12,
     "metadata": {},
     "output_type": "execute_result"
    }
   ],
   "source": [
    "df.head(3)"
   ]
  },
  {
   "cell_type": "code",
   "execution_count": 13,
   "id": "4e7e4604-c0d3-4aca-a83b-c6cbe9315098",
   "metadata": {
    "tags": []
   },
   "outputs": [
    {
     "data": {
      "text/plain": [
       "array(['Jeep', 'Hatchback', 'Sedan', 'Microbus', 'Goods wagon',\n",
       "       'Universal', 'Coupe', 'Minivan', 'Cabriolet', 'Limousine',\n",
       "       'Pickup'], dtype=object)"
      ]
     },
     "execution_count": 13,
     "metadata": {},
     "output_type": "execute_result"
    }
   ],
   "source": [
    "df['Category'].unique()"
   ]
  },
  {
   "cell_type": "code",
   "execution_count": 14,
   "id": "b025e4ad-1bfa-4c70-bdd3-cc266f219499",
   "metadata": {
    "tags": []
   },
   "outputs": [
    {
     "data": {
      "text/plain": [
       "Category\n",
       "Sedan          8600\n",
       "Jeep           5378\n",
       "Hatchback      2799\n",
       "Minivan         633\n",
       "Coupe           528\n",
       "Universal       361\n",
       "Microbus        299\n",
       "Goods wagon     229\n",
       "Pickup           51\n",
       "Cabriolet        35\n",
       "Limousine        11\n",
       "Name: count, dtype: int64"
      ]
     },
     "execution_count": 14,
     "metadata": {},
     "output_type": "execute_result"
    }
   ],
   "source": [
    "df['Category'].value_counts()"
   ]
  },
  {
   "cell_type": "markdown",
   "id": "03d0946f-26cf-4f24-9d6f-a4c7e6e09274",
   "metadata": {},
   "source": [
    "** Category looks good ** "
   ]
  },
  {
   "cell_type": "markdown",
   "id": "e9a81cd4-1996-4fca-9a94-32337b4d2391",
   "metadata": {},
   "source": [
    "### Leather interior looks good. Just need to convert yes/no to binary"
   ]
  },
  {
   "cell_type": "code",
   "execution_count": 15,
   "id": "6608b499-63ee-42c5-961e-9b15a8c243e6",
   "metadata": {
    "tags": []
   },
   "outputs": [
    {
     "data": {
      "text/plain": [
       "Leather interior\n",
       "Yes    13731\n",
       "No      5193\n",
       "Name: count, dtype: int64"
      ]
     },
     "execution_count": 15,
     "metadata": {},
     "output_type": "execute_result"
    }
   ],
   "source": [
    "df['Leather interior'].value_counts()"
   ]
  },
  {
   "cell_type": "code",
   "execution_count": 16,
   "id": "e0b42ef9-4dca-4492-a7ed-86a759e23da0",
   "metadata": {
    "tags": []
   },
   "outputs": [
    {
     "name": "stdout",
     "output_type": "stream",
     "text": [
      "<class 'pandas.core.series.Series'>\n",
      "Index: 18924 entries, 0 to 19236\n",
      "Series name: Leather interior\n",
      "Non-Null Count  Dtype \n",
      "--------------  ----- \n",
      "18924 non-null  object\n",
      "dtypes: object(1)\n",
      "memory usage: 295.7+ KB\n"
     ]
    }
   ],
   "source": [
    "df['Leather interior'].info()"
   ]
  },
  {
   "cell_type": "code",
   "execution_count": 17,
   "id": "47543f38-d3f4-4a4a-bc67-a3b97b28672c",
   "metadata": {
    "tags": []
   },
   "outputs": [],
   "source": [
    "df['Leather interior'] = df['Leather interior'].replace({'Yes':1, 'No':0})"
   ]
  },
  {
   "cell_type": "code",
   "execution_count": 18,
   "id": "eee07bc0-94a3-485d-8330-7cbb205172cc",
   "metadata": {
    "tags": []
   },
   "outputs": [
    {
     "data": {
      "text/html": [
       "<div>\n",
       "<style scoped>\n",
       "    .dataframe tbody tr th:only-of-type {\n",
       "        vertical-align: middle;\n",
       "    }\n",
       "\n",
       "    .dataframe tbody tr th {\n",
       "        vertical-align: top;\n",
       "    }\n",
       "\n",
       "    .dataframe thead th {\n",
       "        text-align: right;\n",
       "    }\n",
       "</style>\n",
       "<table border=\"1\" class=\"dataframe\">\n",
       "  <thead>\n",
       "    <tr style=\"text-align: right;\">\n",
       "      <th></th>\n",
       "      <th>Price</th>\n",
       "      <th>Levy</th>\n",
       "      <th>Manufacturer</th>\n",
       "      <th>Model</th>\n",
       "      <th>Prod. year</th>\n",
       "      <th>Category</th>\n",
       "      <th>Leather interior</th>\n",
       "      <th>Fuel type</th>\n",
       "      <th>Engine volume</th>\n",
       "      <th>Mileage</th>\n",
       "      <th>Cylinders</th>\n",
       "      <th>Gear box type</th>\n",
       "      <th>Drive wheels</th>\n",
       "      <th>Doors</th>\n",
       "      <th>Wheel</th>\n",
       "      <th>Color</th>\n",
       "      <th>Airbags</th>\n",
       "      <th>Vehicle_age</th>\n",
       "    </tr>\n",
       "  </thead>\n",
       "  <tbody>\n",
       "    <tr>\n",
       "      <th>0</th>\n",
       "      <td>13328</td>\n",
       "      <td>1399</td>\n",
       "      <td>LEXUS</td>\n",
       "      <td>RX 450</td>\n",
       "      <td>2010</td>\n",
       "      <td>Jeep</td>\n",
       "      <td>1</td>\n",
       "      <td>Hybrid</td>\n",
       "      <td>3.5</td>\n",
       "      <td>186005 km</td>\n",
       "      <td>6.0</td>\n",
       "      <td>Automatic</td>\n",
       "      <td>4x4</td>\n",
       "      <td>04-May</td>\n",
       "      <td>Left wheel</td>\n",
       "      <td>Silver</td>\n",
       "      <td>12</td>\n",
       "      <td>12</td>\n",
       "    </tr>\n",
       "    <tr>\n",
       "      <th>1</th>\n",
       "      <td>16621</td>\n",
       "      <td>1018</td>\n",
       "      <td>CHEVROLET</td>\n",
       "      <td>Equinox</td>\n",
       "      <td>2011</td>\n",
       "      <td>Jeep</td>\n",
       "      <td>0</td>\n",
       "      <td>Petrol</td>\n",
       "      <td>3</td>\n",
       "      <td>192000 km</td>\n",
       "      <td>6.0</td>\n",
       "      <td>Tiptronic</td>\n",
       "      <td>4x4</td>\n",
       "      <td>04-May</td>\n",
       "      <td>Left wheel</td>\n",
       "      <td>Black</td>\n",
       "      <td>8</td>\n",
       "      <td>11</td>\n",
       "    </tr>\n",
       "    <tr>\n",
       "      <th>2</th>\n",
       "      <td>8467</td>\n",
       "      <td>0</td>\n",
       "      <td>HONDA</td>\n",
       "      <td>FIT</td>\n",
       "      <td>2006</td>\n",
       "      <td>Hatchback</td>\n",
       "      <td>0</td>\n",
       "      <td>Petrol</td>\n",
       "      <td>1.3</td>\n",
       "      <td>200000 km</td>\n",
       "      <td>4.0</td>\n",
       "      <td>Variator</td>\n",
       "      <td>Front</td>\n",
       "      <td>04-May</td>\n",
       "      <td>Right-hand drive</td>\n",
       "      <td>Black</td>\n",
       "      <td>2</td>\n",
       "      <td>16</td>\n",
       "    </tr>\n",
       "  </tbody>\n",
       "</table>\n",
       "</div>"
      ],
      "text/plain": [
       "   Price  Levy Manufacturer    Model  Prod. year   Category  Leather interior  \\\n",
       "0  13328  1399        LEXUS   RX 450        2010       Jeep                 1   \n",
       "1  16621  1018    CHEVROLET  Equinox        2011       Jeep                 0   \n",
       "2   8467     0        HONDA      FIT        2006  Hatchback                 0   \n",
       "\n",
       "  Fuel type Engine volume    Mileage  Cylinders Gear box type Drive wheels  \\\n",
       "0    Hybrid           3.5  186005 km        6.0     Automatic          4x4   \n",
       "1    Petrol             3  192000 km        6.0     Tiptronic          4x4   \n",
       "2    Petrol           1.3  200000 km        4.0      Variator        Front   \n",
       "\n",
       "    Doors             Wheel   Color  Airbags  Vehicle_age  \n",
       "0  04-May        Left wheel  Silver       12           12  \n",
       "1  04-May        Left wheel   Black        8           11  \n",
       "2  04-May  Right-hand drive   Black        2           16  "
      ]
     },
     "execution_count": 18,
     "metadata": {},
     "output_type": "execute_result"
    }
   ],
   "source": [
    "df.head(3)"
   ]
  },
  {
   "cell_type": "code",
   "execution_count": 19,
   "id": "491628ce-e7bf-411b-917a-3256446f2e79",
   "metadata": {
    "tags": []
   },
   "outputs": [
    {
     "data": {
      "text/plain": [
       "Fuel type\n",
       "Petrol            9944\n",
       "Diesel            4001\n",
       "Hybrid            3539\n",
       "LPG                885\n",
       "CNG                469\n",
       "Plug-in Hybrid      85\n",
       "Hydrogen             1\n",
       "Name: count, dtype: int64"
      ]
     },
     "execution_count": 19,
     "metadata": {},
     "output_type": "execute_result"
    }
   ],
   "source": [
    "df['Fuel type'].value_counts()"
   ]
  },
  {
   "cell_type": "code",
   "execution_count": 20,
   "id": "34791b50-4545-4e54-ba36-d25afde3d32c",
   "metadata": {
    "tags": []
   },
   "outputs": [
    {
     "data": {
      "text/plain": [
       "Engine volume\n",
       "2            3856\n",
       "2.5          2246\n",
       "1.8          1743\n",
       "1.6          1446\n",
       "1.5          1289\n",
       "             ... \n",
       "6.8             1\n",
       "6.7             1\n",
       "3.1             1\n",
       "0.8 Turbo       1\n",
       "1.1 Turbo       1\n",
       "Name: count, Length: 107, dtype: int64"
      ]
     },
     "execution_count": 20,
     "metadata": {},
     "output_type": "execute_result"
    }
   ],
   "source": [
    "df['Engine volume'].value_counts()"
   ]
  },
  {
   "cell_type": "code",
   "execution_count": 21,
   "id": "aaac5988-6fdb-4b03-be80-17afcb402a14",
   "metadata": {
    "tags": []
   },
   "outputs": [
    {
     "data": {
      "text/plain": [
       "array(['3.5', '3', '1.3', '2.5', '2', '1.8', '2.4', '4', '1.6', '3.3',\n",
       "       '2.0 Turbo', '2.2 Turbo', '4.7', '1.5', '4.4', '3.0 Turbo',\n",
       "       '1.4 Turbo', '3.6', '2.3', '1.5 Turbo', '1.6 Turbo', '2.2',\n",
       "       '2.3 Turbo', '1.4', '5.5', '2.8 Turbo', '3.2', '3.8', '4.6', '1.2',\n",
       "       '5', '1.7', '2.9', '0.5', '1.8 Turbo', '2.4 Turbo', '3.5 Turbo',\n",
       "       '1.9', '2.7', '4.8', '5.3', '0.4', '2.8', '3.2 Turbo', '1.1',\n",
       "       '2.1', '0.7', '5.4', '1.3 Turbo', '3.7', '1', '2.5 Turbo', '2.6',\n",
       "       '1.9 Turbo', '4.4 Turbo', '4.7 Turbo', '0.8', '0.2 Turbo', '5.7',\n",
       "       '4.8 Turbo', '4.6 Turbo', '6.7', '6.2', '1.2 Turbo', '3.4',\n",
       "       '1.7 Turbo', '6.3 Turbo', '2.7 Turbo', '4.3', '4.2', '2.9 Turbo',\n",
       "       '0', '4.0 Turbo', '20', '3.6 Turbo', '0.3', '3.7 Turbo', '5.9',\n",
       "       '5.5 Turbo', '0.2', '2.1 Turbo', '5.6', '6', '0.7 Turbo',\n",
       "       '0.6 Turbo', '6.8', '4.5', '0.6', '7.3', '0.1', '1.0 Turbo', '6.3',\n",
       "       '4.5 Turbo', '0.8 Turbo', '4.2 Turbo', '3.1', '5.0 Turbo', '6.4',\n",
       "       '3.9', '5.7 Turbo', '0.9', '0.4 Turbo', '5.4 Turbo', '0.3 Turbo',\n",
       "       '5.2', '5.8', '1.1 Turbo'], dtype=object)"
      ]
     },
     "execution_count": 21,
     "metadata": {},
     "output_type": "execute_result"
    }
   ],
   "source": [
    "df['Engine volume'].unique()"
   ]
  },
  {
   "cell_type": "markdown",
   "id": "d02ce8ea-dcbe-491e-b2d5-99a96c734b8f",
   "metadata": {},
   "source": [
    "### Let's make a new feature for Turbo"
   ]
  },
  {
   "cell_type": "code",
   "execution_count": 22,
   "id": "0a7c3934-e3fb-4dc4-b32a-9a8d027b2ac6",
   "metadata": {
    "tags": []
   },
   "outputs": [],
   "source": [
    "turbos = df['Engine volume'].str.split().apply(lambda x: 1 if len(x) == 2 else 0)"
   ]
  },
  {
   "cell_type": "code",
   "execution_count": 23,
   "id": "7d015379-1e4a-49cb-804a-8f02277355b3",
   "metadata": {
    "tags": []
   },
   "outputs": [],
   "source": [
    "df['Turbo'] = turbos"
   ]
  },
  {
   "cell_type": "code",
   "execution_count": 24,
   "id": "f455ff62-a9bc-40d3-9430-6660bbcd8738",
   "metadata": {
    "tags": []
   },
   "outputs": [],
   "source": [
    "df['Engine volume'] = df['Engine volume'].str.split().apply(lambda x: x[0])"
   ]
  },
  {
   "cell_type": "code",
   "execution_count": 25,
   "id": "92b154b0-5e39-45a1-a8fe-744d99ee9551",
   "metadata": {
    "tags": []
   },
   "outputs": [],
   "source": [
    "df['Engine volume'] = df['Engine volume'].astype(float)"
   ]
  },
  {
   "cell_type": "markdown",
   "id": "cf0e0b57-6576-457c-b8eb-a251506567a0",
   "metadata": {},
   "source": [
    "### Mileage"
   ]
  },
  {
   "cell_type": "code",
   "execution_count": 26,
   "id": "00fb7fcb-a24a-47c3-878a-3373719de4cc",
   "metadata": {
    "tags": []
   },
   "outputs": [],
   "source": [
    "df = df.rename(columns={'Mileage': 'Mileage_(km)'})"
   ]
  },
  {
   "cell_type": "code",
   "execution_count": 27,
   "id": "fb2ff7ad-2a32-4db3-884c-c287091a70f9",
   "metadata": {
    "tags": []
   },
   "outputs": [],
   "source": [
    "df['Mileage_(km)'] = df['Mileage_(km)'].str.replace('km', '').astype(float)"
   ]
  },
  {
   "cell_type": "code",
   "execution_count": 28,
   "id": "9bdeb970-e95d-4bad-ace0-e83eb5aff5ce",
   "metadata": {
    "tags": []
   },
   "outputs": [
    {
     "data": {
      "text/html": [
       "<div>\n",
       "<style scoped>\n",
       "    .dataframe tbody tr th:only-of-type {\n",
       "        vertical-align: middle;\n",
       "    }\n",
       "\n",
       "    .dataframe tbody tr th {\n",
       "        vertical-align: top;\n",
       "    }\n",
       "\n",
       "    .dataframe thead th {\n",
       "        text-align: right;\n",
       "    }\n",
       "</style>\n",
       "<table border=\"1\" class=\"dataframe\">\n",
       "  <thead>\n",
       "    <tr style=\"text-align: right;\">\n",
       "      <th></th>\n",
       "      <th>Price</th>\n",
       "      <th>Levy</th>\n",
       "      <th>Manufacturer</th>\n",
       "      <th>Model</th>\n",
       "      <th>Prod. year</th>\n",
       "      <th>Category</th>\n",
       "      <th>Leather interior</th>\n",
       "      <th>Fuel type</th>\n",
       "      <th>Engine volume</th>\n",
       "      <th>Mileage_(km)</th>\n",
       "      <th>Cylinders</th>\n",
       "      <th>Gear box type</th>\n",
       "      <th>Drive wheels</th>\n",
       "      <th>Doors</th>\n",
       "      <th>Wheel</th>\n",
       "      <th>Color</th>\n",
       "      <th>Airbags</th>\n",
       "      <th>Vehicle_age</th>\n",
       "      <th>Turbo</th>\n",
       "    </tr>\n",
       "  </thead>\n",
       "  <tbody>\n",
       "    <tr>\n",
       "      <th>0</th>\n",
       "      <td>13328</td>\n",
       "      <td>1399</td>\n",
       "      <td>LEXUS</td>\n",
       "      <td>RX 450</td>\n",
       "      <td>2010</td>\n",
       "      <td>Jeep</td>\n",
       "      <td>1</td>\n",
       "      <td>Hybrid</td>\n",
       "      <td>3.5</td>\n",
       "      <td>186005.0</td>\n",
       "      <td>6.0</td>\n",
       "      <td>Automatic</td>\n",
       "      <td>4x4</td>\n",
       "      <td>04-May</td>\n",
       "      <td>Left wheel</td>\n",
       "      <td>Silver</td>\n",
       "      <td>12</td>\n",
       "      <td>12</td>\n",
       "      <td>0</td>\n",
       "    </tr>\n",
       "    <tr>\n",
       "      <th>1</th>\n",
       "      <td>16621</td>\n",
       "      <td>1018</td>\n",
       "      <td>CHEVROLET</td>\n",
       "      <td>Equinox</td>\n",
       "      <td>2011</td>\n",
       "      <td>Jeep</td>\n",
       "      <td>0</td>\n",
       "      <td>Petrol</td>\n",
       "      <td>3.0</td>\n",
       "      <td>192000.0</td>\n",
       "      <td>6.0</td>\n",
       "      <td>Tiptronic</td>\n",
       "      <td>4x4</td>\n",
       "      <td>04-May</td>\n",
       "      <td>Left wheel</td>\n",
       "      <td>Black</td>\n",
       "      <td>8</td>\n",
       "      <td>11</td>\n",
       "      <td>0</td>\n",
       "    </tr>\n",
       "    <tr>\n",
       "      <th>2</th>\n",
       "      <td>8467</td>\n",
       "      <td>0</td>\n",
       "      <td>HONDA</td>\n",
       "      <td>FIT</td>\n",
       "      <td>2006</td>\n",
       "      <td>Hatchback</td>\n",
       "      <td>0</td>\n",
       "      <td>Petrol</td>\n",
       "      <td>1.3</td>\n",
       "      <td>200000.0</td>\n",
       "      <td>4.0</td>\n",
       "      <td>Variator</td>\n",
       "      <td>Front</td>\n",
       "      <td>04-May</td>\n",
       "      <td>Right-hand drive</td>\n",
       "      <td>Black</td>\n",
       "      <td>2</td>\n",
       "      <td>16</td>\n",
       "      <td>0</td>\n",
       "    </tr>\n",
       "  </tbody>\n",
       "</table>\n",
       "</div>"
      ],
      "text/plain": [
       "   Price  Levy Manufacturer    Model  Prod. year   Category  Leather interior  \\\n",
       "0  13328  1399        LEXUS   RX 450        2010       Jeep                 1   \n",
       "1  16621  1018    CHEVROLET  Equinox        2011       Jeep                 0   \n",
       "2   8467     0        HONDA      FIT        2006  Hatchback                 0   \n",
       "\n",
       "  Fuel type  Engine volume  Mileage_(km)  Cylinders Gear box type  \\\n",
       "0    Hybrid            3.5      186005.0        6.0     Automatic   \n",
       "1    Petrol            3.0      192000.0        6.0     Tiptronic   \n",
       "2    Petrol            1.3      200000.0        4.0      Variator   \n",
       "\n",
       "  Drive wheels   Doors             Wheel   Color  Airbags  Vehicle_age  Turbo  \n",
       "0          4x4  04-May        Left wheel  Silver       12           12      0  \n",
       "1          4x4  04-May        Left wheel   Black        8           11      0  \n",
       "2        Front  04-May  Right-hand drive   Black        2           16      0  "
      ]
     },
     "execution_count": 28,
     "metadata": {},
     "output_type": "execute_result"
    }
   ],
   "source": [
    "df.head(3)"
   ]
  },
  {
   "cell_type": "markdown",
   "id": "bdeb3f5d-5fc4-48ce-b105-7877ffa76cf6",
   "metadata": {
    "jp-MarkdownHeadingCollapsed": true,
    "tags": []
   },
   "source": [
    "### Cylinders"
   ]
  },
  {
   "cell_type": "code",
   "execution_count": 29,
   "id": "e2af323d-bfe1-4985-a33f-2057a7b2b07b",
   "metadata": {
    "tags": []
   },
   "outputs": [
    {
     "data": {
      "text/plain": [
       "count    18924.000000\n",
       "mean         4.580216\n",
       "std          1.200223\n",
       "min          1.000000\n",
       "25%          4.000000\n",
       "50%          4.000000\n",
       "75%          4.000000\n",
       "max         16.000000\n",
       "Name: Cylinders, dtype: float64"
      ]
     },
     "execution_count": 29,
     "metadata": {},
     "output_type": "execute_result"
    }
   ],
   "source": [
    "df['Cylinders'].describe()"
   ]
  },
  {
   "cell_type": "markdown",
   "id": "8886e507-32d9-4883-be16-7255f2365590",
   "metadata": {},
   "source": [
    "*** Looks like there is outliers in cylinders feature ***"
   ]
  },
  {
   "cell_type": "markdown",
   "id": "c4049a6a-8b2c-4f19-a4c8-3ea257091e5a",
   "metadata": {
    "jp-MarkdownHeadingCollapsed": true,
    "tags": []
   },
   "source": [
    "### Gearbox"
   ]
  },
  {
   "cell_type": "code",
   "execution_count": 30,
   "id": "82ccda64-eec3-4a09-81ea-9e7eca3be850",
   "metadata": {
    "tags": []
   },
   "outputs": [
    {
     "data": {
      "text/plain": [
       "Gear box type\n",
       "Automatic    13282\n",
       "Tiptronic     3065\n",
       "Manual        1844\n",
       "Variator       733\n",
       "Name: count, dtype: int64"
      ]
     },
     "execution_count": 30,
     "metadata": {},
     "output_type": "execute_result"
    }
   ],
   "source": [
    "df['Gear box type'].value_counts()"
   ]
  },
  {
   "cell_type": "markdown",
   "id": "654e1c66-057f-4f04-b71b-0603cd3f975e",
   "metadata": {
    "jp-MarkdownHeadingCollapsed": true,
    "tags": []
   },
   "source": [
    "### Drivewheel"
   ]
  },
  {
   "cell_type": "code",
   "execution_count": 31,
   "id": "70b3ce68-0b32-4c3c-9650-2336b85853bc",
   "metadata": {
    "tags": []
   },
   "outputs": [
    {
     "data": {
      "text/plain": [
       "Drive wheels\n",
       "Front    12695\n",
       "4x4       3969\n",
       "Rear      2260\n",
       "Name: count, dtype: int64"
      ]
     },
     "execution_count": 31,
     "metadata": {},
     "output_type": "execute_result"
    }
   ],
   "source": [
    "df['Drive wheels'].value_counts()"
   ]
  },
  {
   "cell_type": "markdown",
   "id": "5a690433-b9ca-4138-8ba4-460bd84781c7",
   "metadata": {
    "jp-MarkdownHeadingCollapsed": true,
    "tags": []
   },
   "source": [
    "### Doors"
   ]
  },
  {
   "cell_type": "code",
   "execution_count": 32,
   "id": "37f0e4e3-a983-48d8-bb66-d06bec7f53ef",
   "metadata": {
    "tags": []
   },
   "outputs": [],
   "source": [
    "df['Doors'] = df['Doors'].str.split('-').apply(lambda x: x[0])"
   ]
  },
  {
   "cell_type": "code",
   "execution_count": 33,
   "id": "29a137bc-b89c-4670-96eb-fdb6d248c4a5",
   "metadata": {
    "tags": []
   },
   "outputs": [
    {
     "data": {
      "text/plain": [
       "array(['04', '02', '>5'], dtype=object)"
      ]
     },
     "execution_count": 33,
     "metadata": {},
     "output_type": "execute_result"
    }
   ],
   "source": [
    "df['Doors'].unique()"
   ]
  },
  {
   "cell_type": "code",
   "execution_count": 34,
   "id": "5bf3e277-069c-46e0-9d76-513a4451475a",
   "metadata": {
    "tags": []
   },
   "outputs": [
    {
     "data": {
      "text/plain": [
       "Doors\n",
       "04    18032\n",
       "02      768\n",
       ">5      124\n",
       "Name: count, dtype: int64"
      ]
     },
     "execution_count": 34,
     "metadata": {},
     "output_type": "execute_result"
    }
   ],
   "source": [
    "df['Doors'].value_counts()"
   ]
  },
  {
   "cell_type": "code",
   "execution_count": 35,
   "id": "392a2a35-f4e8-46c5-9614-210b56154dc1",
   "metadata": {
    "tags": []
   },
   "outputs": [],
   "source": [
    "df = df.drop(columns=['Doors','Wheel','Color'])"
   ]
  },
  {
   "cell_type": "code",
   "execution_count": 36,
   "id": "6c33b3b6-00b0-44c9-b58c-336f48faee9d",
   "metadata": {
    "tags": []
   },
   "outputs": [
    {
     "data": {
      "text/html": [
       "<div>\n",
       "<style scoped>\n",
       "    .dataframe tbody tr th:only-of-type {\n",
       "        vertical-align: middle;\n",
       "    }\n",
       "\n",
       "    .dataframe tbody tr th {\n",
       "        vertical-align: top;\n",
       "    }\n",
       "\n",
       "    .dataframe thead th {\n",
       "        text-align: right;\n",
       "    }\n",
       "</style>\n",
       "<table border=\"1\" class=\"dataframe\">\n",
       "  <thead>\n",
       "    <tr style=\"text-align: right;\">\n",
       "      <th></th>\n",
       "      <th>Price</th>\n",
       "      <th>Levy</th>\n",
       "      <th>Manufacturer</th>\n",
       "      <th>Model</th>\n",
       "      <th>Prod. year</th>\n",
       "      <th>Category</th>\n",
       "      <th>Leather interior</th>\n",
       "      <th>Fuel type</th>\n",
       "      <th>Engine volume</th>\n",
       "      <th>Mileage_(km)</th>\n",
       "      <th>Cylinders</th>\n",
       "      <th>Gear box type</th>\n",
       "      <th>Drive wheels</th>\n",
       "      <th>Airbags</th>\n",
       "      <th>Vehicle_age</th>\n",
       "      <th>Turbo</th>\n",
       "    </tr>\n",
       "  </thead>\n",
       "  <tbody>\n",
       "    <tr>\n",
       "      <th>0</th>\n",
       "      <td>13328</td>\n",
       "      <td>1399</td>\n",
       "      <td>LEXUS</td>\n",
       "      <td>RX 450</td>\n",
       "      <td>2010</td>\n",
       "      <td>Jeep</td>\n",
       "      <td>1</td>\n",
       "      <td>Hybrid</td>\n",
       "      <td>3.5</td>\n",
       "      <td>186005.0</td>\n",
       "      <td>6.0</td>\n",
       "      <td>Automatic</td>\n",
       "      <td>4x4</td>\n",
       "      <td>12</td>\n",
       "      <td>12</td>\n",
       "      <td>0</td>\n",
       "    </tr>\n",
       "    <tr>\n",
       "      <th>1</th>\n",
       "      <td>16621</td>\n",
       "      <td>1018</td>\n",
       "      <td>CHEVROLET</td>\n",
       "      <td>Equinox</td>\n",
       "      <td>2011</td>\n",
       "      <td>Jeep</td>\n",
       "      <td>0</td>\n",
       "      <td>Petrol</td>\n",
       "      <td>3.0</td>\n",
       "      <td>192000.0</td>\n",
       "      <td>6.0</td>\n",
       "      <td>Tiptronic</td>\n",
       "      <td>4x4</td>\n",
       "      <td>8</td>\n",
       "      <td>11</td>\n",
       "      <td>0</td>\n",
       "    </tr>\n",
       "    <tr>\n",
       "      <th>2</th>\n",
       "      <td>8467</td>\n",
       "      <td>0</td>\n",
       "      <td>HONDA</td>\n",
       "      <td>FIT</td>\n",
       "      <td>2006</td>\n",
       "      <td>Hatchback</td>\n",
       "      <td>0</td>\n",
       "      <td>Petrol</td>\n",
       "      <td>1.3</td>\n",
       "      <td>200000.0</td>\n",
       "      <td>4.0</td>\n",
       "      <td>Variator</td>\n",
       "      <td>Front</td>\n",
       "      <td>2</td>\n",
       "      <td>16</td>\n",
       "      <td>0</td>\n",
       "    </tr>\n",
       "  </tbody>\n",
       "</table>\n",
       "</div>"
      ],
      "text/plain": [
       "   Price  Levy Manufacturer    Model  Prod. year   Category  Leather interior  \\\n",
       "0  13328  1399        LEXUS   RX 450        2010       Jeep                 1   \n",
       "1  16621  1018    CHEVROLET  Equinox        2011       Jeep                 0   \n",
       "2   8467     0        HONDA      FIT        2006  Hatchback                 0   \n",
       "\n",
       "  Fuel type  Engine volume  Mileage_(km)  Cylinders Gear box type  \\\n",
       "0    Hybrid            3.5      186005.0        6.0     Automatic   \n",
       "1    Petrol            3.0      192000.0        6.0     Tiptronic   \n",
       "2    Petrol            1.3      200000.0        4.0      Variator   \n",
       "\n",
       "  Drive wheels  Airbags  Vehicle_age  Turbo  \n",
       "0          4x4       12           12      0  \n",
       "1          4x4        8           11      0  \n",
       "2        Front        2           16      0  "
      ]
     },
     "execution_count": 36,
     "metadata": {},
     "output_type": "execute_result"
    }
   ],
   "source": [
    "df.head(3)"
   ]
  },
  {
   "cell_type": "code",
   "execution_count": 37,
   "id": "51e678f9-db52-46df-874f-be3a03b16155",
   "metadata": {
    "tags": []
   },
   "outputs": [
    {
     "data": {
      "text/html": [
       "<div>\n",
       "<style scoped>\n",
       "    .dataframe tbody tr th:only-of-type {\n",
       "        vertical-align: middle;\n",
       "    }\n",
       "\n",
       "    .dataframe tbody tr th {\n",
       "        vertical-align: top;\n",
       "    }\n",
       "\n",
       "    .dataframe thead th {\n",
       "        text-align: right;\n",
       "    }\n",
       "</style>\n",
       "<table border=\"1\" class=\"dataframe\">\n",
       "  <thead>\n",
       "    <tr style=\"text-align: right;\">\n",
       "      <th></th>\n",
       "      <th>Price</th>\n",
       "      <th>Levy</th>\n",
       "      <th>Prod. year</th>\n",
       "      <th>Leather interior</th>\n",
       "      <th>Engine volume</th>\n",
       "      <th>Mileage_(km)</th>\n",
       "      <th>Cylinders</th>\n",
       "      <th>Airbags</th>\n",
       "      <th>Vehicle_age</th>\n",
       "      <th>Turbo</th>\n",
       "    </tr>\n",
       "  </thead>\n",
       "  <tbody>\n",
       "    <tr>\n",
       "      <th>count</th>\n",
       "      <td>1.892400e+04</td>\n",
       "      <td>18924.000000</td>\n",
       "      <td>18924.000000</td>\n",
       "      <td>18924.000000</td>\n",
       "      <td>18924.000000</td>\n",
       "      <td>1.892400e+04</td>\n",
       "      <td>18924.000000</td>\n",
       "      <td>18924.000000</td>\n",
       "      <td>18924.000000</td>\n",
       "      <td>18924.000000</td>\n",
       "    </tr>\n",
       "    <tr>\n",
       "      <th>mean</th>\n",
       "      <td>1.858744e+04</td>\n",
       "      <td>632.886493</td>\n",
       "      <td>2010.914236</td>\n",
       "      <td>0.725587</td>\n",
       "      <td>2.306251</td>\n",
       "      <td>1.555373e+06</td>\n",
       "      <td>4.580216</td>\n",
       "      <td>6.568379</td>\n",
       "      <td>11.085764</td>\n",
       "      <td>0.099979</td>\n",
       "    </tr>\n",
       "    <tr>\n",
       "      <th>std</th>\n",
       "      <td>1.921356e+05</td>\n",
       "      <td>568.273736</td>\n",
       "      <td>5.665749</td>\n",
       "      <td>0.446230</td>\n",
       "      <td>0.877591</td>\n",
       "      <td>4.880221e+07</td>\n",
       "      <td>1.200223</td>\n",
       "      <td>4.322323</td>\n",
       "      <td>5.665749</td>\n",
       "      <td>0.299980</td>\n",
       "    </tr>\n",
       "    <tr>\n",
       "      <th>min</th>\n",
       "      <td>1.000000e+00</td>\n",
       "      <td>0.000000</td>\n",
       "      <td>1939.000000</td>\n",
       "      <td>0.000000</td>\n",
       "      <td>0.000000</td>\n",
       "      <td>0.000000e+00</td>\n",
       "      <td>1.000000</td>\n",
       "      <td>0.000000</td>\n",
       "      <td>2.000000</td>\n",
       "      <td>0.000000</td>\n",
       "    </tr>\n",
       "    <tr>\n",
       "      <th>25%</th>\n",
       "      <td>5.331000e+03</td>\n",
       "      <td>0.000000</td>\n",
       "      <td>2009.000000</td>\n",
       "      <td>0.000000</td>\n",
       "      <td>1.800000</td>\n",
       "      <td>7.019575e+04</td>\n",
       "      <td>4.000000</td>\n",
       "      <td>4.000000</td>\n",
       "      <td>7.000000</td>\n",
       "      <td>0.000000</td>\n",
       "    </tr>\n",
       "    <tr>\n",
       "      <th>50%</th>\n",
       "      <td>1.317200e+04</td>\n",
       "      <td>642.000000</td>\n",
       "      <td>2012.000000</td>\n",
       "      <td>1.000000</td>\n",
       "      <td>2.000000</td>\n",
       "      <td>1.264000e+05</td>\n",
       "      <td>4.000000</td>\n",
       "      <td>6.000000</td>\n",
       "      <td>10.000000</td>\n",
       "      <td>0.000000</td>\n",
       "    </tr>\n",
       "    <tr>\n",
       "      <th>75%</th>\n",
       "      <td>2.206300e+04</td>\n",
       "      <td>917.000000</td>\n",
       "      <td>2015.000000</td>\n",
       "      <td>1.000000</td>\n",
       "      <td>2.500000</td>\n",
       "      <td>1.891198e+05</td>\n",
       "      <td>4.000000</td>\n",
       "      <td>12.000000</td>\n",
       "      <td>13.000000</td>\n",
       "      <td>0.000000</td>\n",
       "    </tr>\n",
       "    <tr>\n",
       "      <th>max</th>\n",
       "      <td>2.630750e+07</td>\n",
       "      <td>11714.000000</td>\n",
       "      <td>2020.000000</td>\n",
       "      <td>1.000000</td>\n",
       "      <td>20.000000</td>\n",
       "      <td>2.147484e+09</td>\n",
       "      <td>16.000000</td>\n",
       "      <td>16.000000</td>\n",
       "      <td>83.000000</td>\n",
       "      <td>1.000000</td>\n",
       "    </tr>\n",
       "  </tbody>\n",
       "</table>\n",
       "</div>"
      ],
      "text/plain": [
       "              Price          Levy    Prod. year  Leather interior  \\\n",
       "count  1.892400e+04  18924.000000  18924.000000      18924.000000   \n",
       "mean   1.858744e+04    632.886493   2010.914236          0.725587   \n",
       "std    1.921356e+05    568.273736      5.665749          0.446230   \n",
       "min    1.000000e+00      0.000000   1939.000000          0.000000   \n",
       "25%    5.331000e+03      0.000000   2009.000000          0.000000   \n",
       "50%    1.317200e+04    642.000000   2012.000000          1.000000   \n",
       "75%    2.206300e+04    917.000000   2015.000000          1.000000   \n",
       "max    2.630750e+07  11714.000000   2020.000000          1.000000   \n",
       "\n",
       "       Engine volume  Mileage_(km)     Cylinders       Airbags   Vehicle_age  \\\n",
       "count   18924.000000  1.892400e+04  18924.000000  18924.000000  18924.000000   \n",
       "mean        2.306251  1.555373e+06      4.580216      6.568379     11.085764   \n",
       "std         0.877591  4.880221e+07      1.200223      4.322323      5.665749   \n",
       "min         0.000000  0.000000e+00      1.000000      0.000000      2.000000   \n",
       "25%         1.800000  7.019575e+04      4.000000      4.000000      7.000000   \n",
       "50%         2.000000  1.264000e+05      4.000000      6.000000     10.000000   \n",
       "75%         2.500000  1.891198e+05      4.000000     12.000000     13.000000   \n",
       "max        20.000000  2.147484e+09     16.000000     16.000000     83.000000   \n",
       "\n",
       "              Turbo  \n",
       "count  18924.000000  \n",
       "mean       0.099979  \n",
       "std        0.299980  \n",
       "min        0.000000  \n",
       "25%        0.000000  \n",
       "50%        0.000000  \n",
       "75%        0.000000  \n",
       "max        1.000000  "
      ]
     },
     "execution_count": 37,
     "metadata": {},
     "output_type": "execute_result"
    }
   ],
   "source": [
    "df.describe()"
   ]
  },
  {
   "cell_type": "markdown",
   "id": "69cc0654-f485-4681-8100-058405d46391",
   "metadata": {
    "jp-MarkdownHeadingCollapsed": true,
    "tags": []
   },
   "source": [
    "# Look for Outliers"
   ]
  },
  {
   "cell_type": "code",
   "execution_count": 38,
   "id": "036719da-8580-406a-b217-d3c92c6dbd24",
   "metadata": {
    "tags": []
   },
   "outputs": [],
   "source": [
    "def outliers(Series):\n",
    "    std = Series.std()\n",
    "    mean = Series.mean()\n",
    "    return (Series < (mean - std * 3)) | (Series > (mean + std * 3))\n",
    "    "
   ]
  },
  {
   "cell_type": "code",
   "execution_count": 39,
   "id": "d034d407-af84-4bc2-b39e-284dc2e28463",
   "metadata": {
    "tags": []
   },
   "outputs": [],
   "source": [
    "outliers_list = pd.DataFrame(columns=df.columns)\n",
    "for column in df.columns:\n",
    "    if df[column].dtypes == 'O':\n",
    "        continue\n",
    "    else:\n",
    "        outliers_list=pd.concat([outliers_list, df[outliers(df[column])]])"
   ]
  },
  {
   "cell_type": "code",
   "execution_count": 40,
   "id": "4af311c5-3c98-4da9-9cb9-a0173bcd08f7",
   "metadata": {
    "tags": []
   },
   "outputs": [],
   "source": [
    "dataset = df.drop(outliers_list.index)"
   ]
  },
  {
   "cell_type": "code",
   "execution_count": 41,
   "id": "23192fc4-56ba-47a3-ab02-71c99c260e41",
   "metadata": {
    "tags": []
   },
   "outputs": [
    {
     "data": {
      "text/html": [
       "<div>\n",
       "<style scoped>\n",
       "    .dataframe tbody tr th:only-of-type {\n",
       "        vertical-align: middle;\n",
       "    }\n",
       "\n",
       "    .dataframe tbody tr th {\n",
       "        vertical-align: top;\n",
       "    }\n",
       "\n",
       "    .dataframe thead th {\n",
       "        text-align: right;\n",
       "    }\n",
       "</style>\n",
       "<table border=\"1\" class=\"dataframe\">\n",
       "  <thead>\n",
       "    <tr style=\"text-align: right;\">\n",
       "      <th></th>\n",
       "      <th>Price</th>\n",
       "      <th>Levy</th>\n",
       "      <th>Prod. year</th>\n",
       "      <th>Leather interior</th>\n",
       "      <th>Engine volume</th>\n",
       "      <th>Mileage_(km)</th>\n",
       "      <th>Cylinders</th>\n",
       "      <th>Airbags</th>\n",
       "      <th>Vehicle_age</th>\n",
       "      <th>Turbo</th>\n",
       "    </tr>\n",
       "  </thead>\n",
       "  <tbody>\n",
       "    <tr>\n",
       "      <th>count</th>\n",
       "      <td>16535.000000</td>\n",
       "      <td>16535.000000</td>\n",
       "      <td>16535.000000</td>\n",
       "      <td>16535.000000</td>\n",
       "      <td>16535.000000</td>\n",
       "      <td>1.653500e+04</td>\n",
       "      <td>16535.000000</td>\n",
       "      <td>16535.000000</td>\n",
       "      <td>16535.000000</td>\n",
       "      <td>16535.0</td>\n",
       "    </tr>\n",
       "    <tr>\n",
       "      <th>mean</th>\n",
       "      <td>15948.221832</td>\n",
       "      <td>646.161778</td>\n",
       "      <td>2011.333958</td>\n",
       "      <td>0.742244</td>\n",
       "      <td>2.256994</td>\n",
       "      <td>1.615142e+05</td>\n",
       "      <td>4.494285</td>\n",
       "      <td>6.470154</td>\n",
       "      <td>10.666042</td>\n",
       "      <td>0.0</td>\n",
       "    </tr>\n",
       "    <tr>\n",
       "      <th>std</th>\n",
       "      <td>16010.762268</td>\n",
       "      <td>485.985921</td>\n",
       "      <td>5.001499</td>\n",
       "      <td>0.437412</td>\n",
       "      <td>0.772974</td>\n",
       "      <td>7.907343e+05</td>\n",
       "      <td>1.048457</td>\n",
       "      <td>4.297266</td>\n",
       "      <td>5.001499</td>\n",
       "      <td>0.0</td>\n",
       "    </tr>\n",
       "    <tr>\n",
       "      <th>min</th>\n",
       "      <td>1.000000</td>\n",
       "      <td>0.000000</td>\n",
       "      <td>1994.000000</td>\n",
       "      <td>0.000000</td>\n",
       "      <td>0.000000</td>\n",
       "      <td>0.000000e+00</td>\n",
       "      <td>1.000000</td>\n",
       "      <td>0.000000</td>\n",
       "      <td>2.000000</td>\n",
       "      <td>0.0</td>\n",
       "    </tr>\n",
       "    <tr>\n",
       "      <th>25%</th>\n",
       "      <td>4704.000000</td>\n",
       "      <td>0.000000</td>\n",
       "      <td>2010.000000</td>\n",
       "      <td>0.000000</td>\n",
       "      <td>1.800000</td>\n",
       "      <td>7.108500e+04</td>\n",
       "      <td>4.000000</td>\n",
       "      <td>4.000000</td>\n",
       "      <td>7.000000</td>\n",
       "      <td>0.0</td>\n",
       "    </tr>\n",
       "    <tr>\n",
       "      <th>50%</th>\n",
       "      <td>12544.000000</td>\n",
       "      <td>697.000000</td>\n",
       "      <td>2012.000000</td>\n",
       "      <td>1.000000</td>\n",
       "      <td>2.000000</td>\n",
       "      <td>1.261160e+05</td>\n",
       "      <td>4.000000</td>\n",
       "      <td>4.000000</td>\n",
       "      <td>10.000000</td>\n",
       "      <td>0.0</td>\n",
       "    </tr>\n",
       "    <tr>\n",
       "      <th>75%</th>\n",
       "      <td>21181.000000</td>\n",
       "      <td>919.000000</td>\n",
       "      <td>2015.000000</td>\n",
       "      <td>1.000000</td>\n",
       "      <td>2.500000</td>\n",
       "      <td>1.876470e+05</td>\n",
       "      <td>4.000000</td>\n",
       "      <td>12.000000</td>\n",
       "      <td>12.000000</td>\n",
       "      <td>0.0</td>\n",
       "    </tr>\n",
       "    <tr>\n",
       "      <th>max</th>\n",
       "      <td>308906.000000</td>\n",
       "      <td>2278.000000</td>\n",
       "      <td>2020.000000</td>\n",
       "      <td>1.000000</td>\n",
       "      <td>4.800000</td>\n",
       "      <td>5.800889e+07</td>\n",
       "      <td>8.000000</td>\n",
       "      <td>16.000000</td>\n",
       "      <td>28.000000</td>\n",
       "      <td>0.0</td>\n",
       "    </tr>\n",
       "  </tbody>\n",
       "</table>\n",
       "</div>"
      ],
      "text/plain": [
       "               Price          Levy    Prod. year  Leather interior  \\\n",
       "count   16535.000000  16535.000000  16535.000000      16535.000000   \n",
       "mean    15948.221832    646.161778   2011.333958          0.742244   \n",
       "std     16010.762268    485.985921      5.001499          0.437412   \n",
       "min         1.000000      0.000000   1994.000000          0.000000   \n",
       "25%      4704.000000      0.000000   2010.000000          0.000000   \n",
       "50%     12544.000000    697.000000   2012.000000          1.000000   \n",
       "75%     21181.000000    919.000000   2015.000000          1.000000   \n",
       "max    308906.000000   2278.000000   2020.000000          1.000000   \n",
       "\n",
       "       Engine volume  Mileage_(km)     Cylinders       Airbags   Vehicle_age  \\\n",
       "count   16535.000000  1.653500e+04  16535.000000  16535.000000  16535.000000   \n",
       "mean        2.256994  1.615142e+05      4.494285      6.470154     10.666042   \n",
       "std         0.772974  7.907343e+05      1.048457      4.297266      5.001499   \n",
       "min         0.000000  0.000000e+00      1.000000      0.000000      2.000000   \n",
       "25%         1.800000  7.108500e+04      4.000000      4.000000      7.000000   \n",
       "50%         2.000000  1.261160e+05      4.000000      4.000000     10.000000   \n",
       "75%         2.500000  1.876470e+05      4.000000     12.000000     12.000000   \n",
       "max         4.800000  5.800889e+07      8.000000     16.000000     28.000000   \n",
       "\n",
       "         Turbo  \n",
       "count  16535.0  \n",
       "mean       0.0  \n",
       "std        0.0  \n",
       "min        0.0  \n",
       "25%        0.0  \n",
       "50%        0.0  \n",
       "75%        0.0  \n",
       "max        0.0  "
      ]
     },
     "execution_count": 41,
     "metadata": {},
     "output_type": "execute_result"
    }
   ],
   "source": [
    "dataset.describe()"
   ]
  },
  {
   "cell_type": "code",
   "execution_count": 42,
   "id": "63f374c7-ecca-4b4e-88e6-cb1407ac5726",
   "metadata": {
    "tags": []
   },
   "outputs": [
    {
     "data": {
      "text/plain": [
       "<Axes: >"
      ]
     },
     "execution_count": 42,
     "metadata": {},
     "output_type": "execute_result"
    },
    {
     "data": {
      "image/png": "[encoded data removed]",
      "text/plain": [
       "<Figure size 640x480 with 2 Axes>"
      ]
     },
     "metadata": {},
     "output_type": "display_data"
    }
   ],
   "source": [
    "sns.heatmap(dataset.corr(numeric_only=True), annot=True)"
   ]
  },
  {
   "cell_type": "markdown",
   "id": "4228c59f-acb1-42e0-b0b2-71f4d3701917",
   "metadata": {},
   "source": [
    "* Cylinders and Engine Volume have correlation with eachother\n",
    "* Cylinders and Engine have low corr with Price \n",
    "* We can probably drop Prod. Year or Vehicle Age for one or the other\n",
    "* Something is wrong with Turbo"
   ]
  },
  {
   "cell_type": "code",
   "execution_count": 43,
   "id": "0bda3655-2495-4eaa-bbe7-5910286c3821",
   "metadata": {
    "tags": []
   },
   "outputs": [
    {
     "data": {
      "text/plain": [
       "Turbo\n",
       "0    16535\n",
       "Name: count, dtype: int64"
      ]
     },
     "execution_count": 43,
     "metadata": {},
     "output_type": "execute_result"
    }
   ],
   "source": [
    "dataset['Turbo'].value_counts()"
   ]
  },
  {
   "cell_type": "code",
   "execution_count": 44,
   "id": "cef24e99-dc62-47e8-9356-17cef8c74d29",
   "metadata": {
    "tags": []
   },
   "outputs": [],
   "source": [
    "dataset = dataset.drop(columns=['Turbo', 'Engine volume', 'Prod. year'])"
   ]
  },
  {
   "cell_type": "markdown",
   "id": "37fd3145-174d-4d89-b043-7af0cd0be831",
   "metadata": {},
   "source": [
    "# Dummies/ OHE"
   ]
  },
  {
   "cell_type": "code",
   "execution_count": 45,
   "id": "0f3df8f6-c8ae-48fc-a407-451ef007c9bc",
   "metadata": {
    "tags": []
   },
   "outputs": [],
   "source": [
    "from sklearn.preprocessing import OrdinalEncoder"
   ]
  },
  {
   "cell_type": "code",
   "execution_count": 46,
   "id": "d7cd1568-c3fa-492d-b4a5-d19d4469534e",
   "metadata": {
    "tags": []
   },
   "outputs": [
    {
     "data": {
      "text/plain": [
       "['Manufacturer',\n",
       " 'Model',\n",
       " 'Category',\n",
       " 'Fuel type',\n",
       " 'Gear box type',\n",
       " 'Drive wheels']"
      ]
     },
     "execution_count": 46,
     "metadata": {},
     "output_type": "execute_result"
    }
   ],
   "source": [
    "categorical_columns = dataset.select_dtypes(include=['object']).columns.tolist()\n",
    "categorical_columns"
   ]
  },
  {
   "cell_type": "code",
   "execution_count": 47,
   "id": "de72ccd6-bca6-4e68-b817-e325d7f6261e",
   "metadata": {
    "tags": []
   },
   "outputs": [],
   "source": [
    "ordinal_encoder = OrdinalEncoder()\n",
    "encoded_data = ordinal_encoder.fit_transform(dataset[categorical_columns])"
   ]
  },
  {
   "cell_type": "code",
   "execution_count": 48,
   "id": "f1f6f84c-f5a3-4c8c-b177-2afa49e887dd",
   "metadata": {
    "tags": []
   },
   "outputs": [],
   "source": [
    "dataset_categorical_columns = dataset.copy()\n",
    "dataset[categorical_columns] = encoded_data.astype(int)"
   ]
  },
  {
   "cell_type": "code",
   "execution_count": 49,
   "id": "41fd66e8-9922-4e21-b428-dab6021b71b4",
   "metadata": {
    "tags": []
   },
   "outputs": [
    {
     "data": {
      "text/html": [
       "<div>\n",
       "<style scoped>\n",
       "    .dataframe tbody tr th:only-of-type {\n",
       "        vertical-align: middle;\n",
       "    }\n",
       "\n",
       "    .dataframe tbody tr th {\n",
       "        vertical-align: top;\n",
       "    }\n",
       "\n",
       "    .dataframe thead th {\n",
       "        text-align: right;\n",
       "    }\n",
       "</style>\n",
       "<table border=\"1\" class=\"dataframe\">\n",
       "  <thead>\n",
       "    <tr style=\"text-align: right;\">\n",
       "      <th></th>\n",
       "      <th>Price</th>\n",
       "      <th>Levy</th>\n",
       "      <th>Manufacturer</th>\n",
       "      <th>Model</th>\n",
       "      <th>Category</th>\n",
       "      <th>Leather interior</th>\n",
       "      <th>Fuel type</th>\n",
       "      <th>Mileage_(km)</th>\n",
       "      <th>Cylinders</th>\n",
       "      <th>Gear box type</th>\n",
       "      <th>Drive wheels</th>\n",
       "      <th>Airbags</th>\n",
       "      <th>Vehicle_age</th>\n",
       "    </tr>\n",
       "  </thead>\n",
       "  <tbody>\n",
       "    <tr>\n",
       "      <th>0</th>\n",
       "      <td>13328</td>\n",
       "      <td>1399</td>\n",
       "      <td>29</td>\n",
       "      <td>919</td>\n",
       "      <td>4</td>\n",
       "      <td>1</td>\n",
       "      <td>2</td>\n",
       "      <td>186005.0</td>\n",
       "      <td>6.0</td>\n",
       "      <td>0</td>\n",
       "      <td>0</td>\n",
       "      <td>12</td>\n",
       "      <td>12</td>\n",
       "    </tr>\n",
       "    <tr>\n",
       "      <th>1</th>\n",
       "      <td>16621</td>\n",
       "      <td>1018</td>\n",
       "      <td>7</td>\n",
       "      <td>471</td>\n",
       "      <td>4</td>\n",
       "      <td>0</td>\n",
       "      <td>5</td>\n",
       "      <td>192000.0</td>\n",
       "      <td>6.0</td>\n",
       "      <td>2</td>\n",
       "      <td>0</td>\n",
       "      <td>8</td>\n",
       "      <td>11</td>\n",
       "    </tr>\n",
       "    <tr>\n",
       "      <th>2</th>\n",
       "      <td>8467</td>\n",
       "      <td>0</td>\n",
       "      <td>19</td>\n",
       "      <td>489</td>\n",
       "      <td>3</td>\n",
       "      <td>0</td>\n",
       "      <td>5</td>\n",
       "      <td>200000.0</td>\n",
       "      <td>4.0</td>\n",
       "      <td>3</td>\n",
       "      <td>1</td>\n",
       "      <td>2</td>\n",
       "      <td>16</td>\n",
       "    </tr>\n",
       "    <tr>\n",
       "      <th>3</th>\n",
       "      <td>3607</td>\n",
       "      <td>862</td>\n",
       "      <td>15</td>\n",
       "      <td>473</td>\n",
       "      <td>4</td>\n",
       "      <td>1</td>\n",
       "      <td>2</td>\n",
       "      <td>168966.0</td>\n",
       "      <td>4.0</td>\n",
       "      <td>0</td>\n",
       "      <td>0</td>\n",
       "      <td>0</td>\n",
       "      <td>11</td>\n",
       "    </tr>\n",
       "    <tr>\n",
       "      <th>4</th>\n",
       "      <td>11726</td>\n",
       "      <td>446</td>\n",
       "      <td>19</td>\n",
       "      <td>489</td>\n",
       "      <td>3</td>\n",
       "      <td>1</td>\n",
       "      <td>5</td>\n",
       "      <td>91901.0</td>\n",
       "      <td>4.0</td>\n",
       "      <td>0</td>\n",
       "      <td>1</td>\n",
       "      <td>4</td>\n",
       "      <td>8</td>\n",
       "    </tr>\n",
       "  </tbody>\n",
       "</table>\n",
       "</div>"
      ],
      "text/plain": [
       "   Price  Levy  Manufacturer  Model  Category  Leather interior  Fuel type  \\\n",
       "0  13328  1399            29    919         4                 1          2   \n",
       "1  16621  1018             7    471         4                 0          5   \n",
       "2   8467     0            19    489         3                 0          5   \n",
       "3   3607   862            15    473         4                 1          2   \n",
       "4  11726   446            19    489         3                 1          5   \n",
       "\n",
       "   Mileage_(km)  Cylinders  Gear box type  Drive wheels  Airbags  Vehicle_age  \n",
       "0      186005.0        6.0              0             0       12           12  \n",
       "1      192000.0        6.0              2             0        8           11  \n",
       "2      200000.0        4.0              3             1        2           16  \n",
       "3      168966.0        4.0              0             0        0           11  \n",
       "4       91901.0        4.0              0             1        4            8  "
      ]
     },
     "execution_count": 49,
     "metadata": {},
     "output_type": "execute_result"
    }
   ],
   "source": [
    "dataset.head()"
   ]
  },
  {
   "cell_type": "code",
   "execution_count": 50,
   "id": "a11f5647-79b4-4b56-9794-a816091f93ce",
   "metadata": {
    "tags": []
   },
   "outputs": [
    {
     "data": {
      "text/plain": [
       "<Axes: >"
      ]
     },
     "execution_count": 50,
     "metadata": {},
     "output_type": "execute_result"
    },
    {
     "data": {
      "image/png": "[encoded data removed]",
      "text/plain": [
       "<Figure size 1000x800 with 2 Axes>"
      ]
     },
     "metadata": {},
     "output_type": "display_data"
    }
   ],
   "source": [
    "f, ax = plt.subplots(figsize=(10,8))\n",
    "sns.heatmap(dataset.corr(numeric_only=True), annot=True, linewidths=.5, fmt= '.2f',ax=ax )"
   ]
  },
  {
   "cell_type": "markdown",
   "id": "b59f0660-d067-4698-ad7d-d608036f2db1",
   "metadata": {
    "tags": []
   },
   "source": [
    "# Models"
   ]
  },
  {
   "cell_type": "code",
   "execution_count": 51,
   "id": "f99d74d6-c039-480b-af4b-1f75cd80d20c",
   "metadata": {
    "tags": []
   },
   "outputs": [],
   "source": [
    "from sklearn.model_selection import train_test_split\n",
    "from sklearn.linear_model import LinearRegression\n",
    "from sklearn.metrics import mean_absolute_error"
   ]
  },
  {
   "cell_type": "code",
   "execution_count": 52,
   "id": "847f8f7d-b014-419d-9b7a-1cb6a269b3e0",
   "metadata": {
    "tags": []
   },
   "outputs": [],
   "source": [
    "X = dataset.drop(columns=['Price', 'Fuel type',  'Drive wheels', 'Cylinders','Model'])\n",
    "y = dataset['Price']"
   ]
  },
  {
   "cell_type": "code",
   "execution_count": 53,
   "id": "7f2830db-1a23-4e9a-8885-a6cc339516f3",
   "metadata": {
    "tags": []
   },
   "outputs": [],
   "source": [
    "X_train, X_test, y_train, y_test = train_test_split(X,y, test_size=0.2, random_state=1)"
   ]
  },
  {
   "cell_type": "code",
   "execution_count": 54,
   "id": "456c0182-e042-4d1b-a82c-adaf668d9a6e",
   "metadata": {
    "tags": []
   },
   "outputs": [
    {
     "data": {
      "text/plain": [
       "10277.072218635602"
      ]
     },
     "execution_count": 54,
     "metadata": {},
     "output_type": "execute_result"
    }
   ],
   "source": [
    "linear_model = LinearRegression()\n",
    "linear_model.fit(X_train, y_train)\n",
    "linear_predicted = linear_model.predict(X_test)\n",
    "mean_absolute_error(y_test, linear_predicted)"
   ]
  },
  {
   "cell_type": "code",
   "execution_count": 55,
   "id": "3ecdede0-07e7-4d41-829b-17a64baf1d3b",
   "metadata": {
    "tags": []
   },
   "outputs": [
    {
     "data": {
      "text/plain": [
       "4334.075923570013"
      ]
     },
     "execution_count": 55,
     "metadata": {},
     "output_type": "execute_result"
    }
   ],
   "source": [
    "from sklearn.ensemble import RandomForestRegressor\n",
    "forest_model = RandomForestRegressor()\n",
    "forest_model.fit(X_train, y_train)\n",
    "forest_predicted = forest_model.predict(X_test)\n",
    "mean_absolute_error(y_test, forest_predicted)"
   ]
  },
  {
   "cell_type": "code",
   "execution_count": 56,
   "id": "d75f5977-8a99-4b22-829d-c9b09c20391f",
   "metadata": {
    "tags": []
   },
   "outputs": [
    {
     "data": {
      "text/plain": [
       "0.6987761814350034"
      ]
     },
     "execution_count": 56,
     "metadata": {},
     "output_type": "execute_result"
    }
   ],
   "source": [
    "forest_model.score(X_test,y_test)"
   ]
  },
  {
   "cell_type": "code",
   "execution_count": 57,
   "id": "aa7159ea-bc0c-4b27-a7a1-1fda96fadc24",
   "metadata": {
    "tags": []
   },
   "outputs": [
    {
     "name": "stderr",
     "output_type": "stream",
     "text": [
      "C:\\ProgramData\\anaconda3\\Lib\\site-packages\\sklearn\\model_selection\\_validation.py:425: FitFailedWarning: \n",
      "10 fits failed out of a total of 20.\n",
      "The score on these train-test partitions for these parameters will be set to nan.\n",
      "If these failures are not expected, you can try to debug them by setting error_score='raise'.\n",
      "\n",
      "Below are more details about the failures:\n",
      "--------------------------------------------------------------------------------\n",
      "10 fits failed with the following error:\n",
      "Traceback (most recent call last):\n",
      "  File \"C:\\ProgramData\\anaconda3\\Lib\\site-packages\\sklearn\\model_selection\\_validation.py\", line 732, in _fit_and_score\n",
      "    estimator.fit(X_train, y_train, **fit_params)\n",
      "  File \"C:\\ProgramData\\anaconda3\\Lib\\site-packages\\sklearn\\base.py\", line 1144, in wrapper\n",
      "    estimator._validate_params()\n",
      "  File \"C:\\ProgramData\\anaconda3\\Lib\\site-packages\\sklearn\\base.py\", line 637, in _validate_params\n",
      "    validate_parameter_constraints(\n",
      "  File \"C:\\ProgramData\\anaconda3\\Lib\\site-packages\\sklearn\\utils\\_param_validation.py\", line 95, in validate_parameter_constraints\n",
      "    raise InvalidParameterError(\n",
      "sklearn.utils._param_validation.InvalidParameterError: The 'criterion' parameter of DecisionTreeRegressor must be a str among {'friedman_mse', 'absolute_error', 'squared_error', 'poisson'}. Got 'mse' instead.\n",
      "\n",
      "  warnings.warn(some_fits_failed_message, FitFailedWarning)\n",
      "C:\\ProgramData\\anaconda3\\Lib\\site-packages\\sklearn\\model_selection\\_search.py:976: UserWarning: One or more of the test scores are non-finite: [       nan        nan 0.51032929 0.46139959]\n",
      "  warnings.warn(\n"
     ]
    },
    {
     "data": {
      "text/html": [
       "<div>\n",
       "<style scoped>\n",
       "    .dataframe tbody tr th:only-of-type {\n",
       "        vertical-align: middle;\n",
       "    }\n",
       "\n",
       "    .dataframe tbody tr th {\n",
       "        vertical-align: top;\n",
       "    }\n",
       "\n",
       "    .dataframe thead th {\n",
       "        text-align: right;\n",
       "    }\n",
       "</style>\n",
       "<table border=\"1\" class=\"dataframe\">\n",
       "  <thead>\n",
       "    <tr style=\"text-align: right;\">\n",
       "      <th></th>\n",
       "      <th>model</th>\n",
       "      <th>best_score</th>\n",
       "      <th>best_params</th>\n",
       "    </tr>\n",
       "  </thead>\n",
       "  <tbody>\n",
       "    <tr>\n",
       "      <th>0</th>\n",
       "      <td>linear_regression</td>\n",
       "      <td>0.176999</td>\n",
       "      <td>{}</td>\n",
       "    </tr>\n",
       "    <tr>\n",
       "      <th>1</th>\n",
       "      <td>lasso</td>\n",
       "      <td>0.177007</td>\n",
       "      <td>{'alpha': 2, 'selection': 'cyclic'}</td>\n",
       "    </tr>\n",
       "    <tr>\n",
       "      <th>2</th>\n",
       "      <td>decision_tree</td>\n",
       "      <td>0.510329</td>\n",
       "      <td>{'criterion': 'friedman_mse', 'splitter': 'best'}</td>\n",
       "    </tr>\n",
       "    <tr>\n",
       "      <th>3</th>\n",
       "      <td>Random Forest</td>\n",
       "      <td>0.708891</td>\n",
       "      <td>{}</td>\n",
       "    </tr>\n",
       "  </tbody>\n",
       "</table>\n",
       "</div>"
      ],
      "text/plain": [
       "               model  best_score  \\\n",
       "0  linear_regression    0.176999   \n",
       "1              lasso    0.177007   \n",
       "2      decision_tree    0.510329   \n",
       "3      Random Forest    0.708891   \n",
       "\n",
       "                                         best_params  \n",
       "0                                                 {}  \n",
       "1                {'alpha': 2, 'selection': 'cyclic'}  \n",
       "2  {'criterion': 'friedman_mse', 'splitter': 'best'}  \n",
       "3                                                 {}  "
      ]
     },
     "execution_count": 57,
     "metadata": {},
     "output_type": "execute_result"
    }
   ],
   "source": [
    "from sklearn.model_selection import GridSearchCV\n",
    "from sklearn.model_selection import ShuffleSplit\n",
    "from sklearn.linear_model import Lasso\n",
    "from sklearn.tree import DecisionTreeRegressor\n",
    "\n",
    "\n",
    "\n",
    "def find_best_model_using_gridsearchcv(X,y):\n",
    "    algos = {\n",
    "        'linear_regression' : {\n",
    "            'model': LinearRegression(),\n",
    "            'params': {}\n",
    "        },\n",
    "        'lasso': {\n",
    "            'model': Lasso(),\n",
    "            'params': {\n",
    "                'alpha': [1,2],\n",
    "                'selection': ['random', 'cyclic']\n",
    "            }\n",
    "        },\n",
    "        'decision_tree': {\n",
    "            'model': DecisionTreeRegressor(),\n",
    "            'params': {\n",
    "                'criterion' : ['mse','friedman_mse'],\n",
    "                'splitter': ['best','random']\n",
    "            }\n",
    "        },\n",
    "        'Random Forest': {\n",
    "            'model': RandomForestRegressor(),\n",
    "            'params':{}\n",
    "            }\n",
    "    }\n",
    "    scores = []\n",
    "    cv = ShuffleSplit(n_splits=5, test_size=0.2, random_state=0)\n",
    "    for algo_name, config in algos.items():\n",
    "        gs =  GridSearchCV(config['model'], config['params'], cv=cv, return_train_score=False)\n",
    "        gs.fit(X,y)\n",
    "        scores.append({\n",
    "            'model': algo_name,\n",
    "            'best_score': gs.best_score_,\n",
    "            'best_params': gs.best_params_\n",
    "        })\n",
    "\n",
    "    return pd.DataFrame(scores,columns=['model','best_score','best_params'])\n",
    "\n",
    "find_best_model_using_gridsearchcv(X,y)"
   ]
  },
  {
   "cell_type": "markdown",
   "id": "4e4613d3-6a39-490c-9e20-ca2a30d0e693",
   "metadata": {},
   "source": [
    "# Create dictionaries for price prediction"
   ]
  },
  {
   "cell_type": "code",
   "execution_count": 58,
   "id": "750891ca-4352-4f8f-a9ef-5910d91676e7",
   "metadata": {
    "tags": []
   },
   "outputs": [],
   "source": [
    "Manufacturer_dict = {}"
   ]
  },
  {
   "cell_type": "code",
   "execution_count": 59,
   "id": "9ffaf971-0856-4dd6-8a54-aa832ba53b4d",
   "metadata": {
    "tags": []
   },
   "outputs": [
    {
     "data": {
      "text/plain": [
       "array(['Manufacturer', 'Model', 'Category', 'Fuel type', 'Gear box type',\n",
       "       'Drive wheels'], dtype=object)"
      ]
     },
     "execution_count": 59,
     "metadata": {},
     "output_type": "execute_result"
    }
   ],
   "source": [
    "ordinal_encoder.get_feature_names_out()"
   ]
  },
  {
   "cell_type": "code",
   "execution_count": 60,
   "id": "ebdb426d-1185-4dc6-86ce-cf5e40b3a537",
   "metadata": {
    "tags": []
   },
   "outputs": [
    {
     "data": {
      "text/plain": [
       "['Levy',\n",
       " 'Manufacturer',\n",
       " 'Category',\n",
       " 'Leather interior',\n",
       " 'Mileage_(km)',\n",
       " 'Gear box type',\n",
       " 'Airbags',\n",
       " 'Vehicle_age']"
      ]
     },
     "execution_count": 60,
     "metadata": {},
     "output_type": "execute_result"
    }
   ],
   "source": [
    "X_train.columns.to_list()"
   ]
  },
  {
   "cell_type": "code",
   "execution_count": 61,
   "id": "8947a77f-cdf0-4a89-8d9d-68bec7884a42",
   "metadata": {
    "tags": []
   },
   "outputs": [],
   "source": [
    "def create_dictionary(names_series, ordinal_encoder_series):\n",
    "    dictionary = {}\n",
    "    \n",
    "    if len(names_series) != len(ordinal_encoder_series):\n",
    "        print('Error: Length of the 2 series are not the same')\n",
    "        return\n",
    "    \n",
    "    for index, content in names_series.items():\n",
    "        dictionary[content.upper()] =int(ordinal_encoder_series[index])\n",
    "    \n",
    "    return dictionary\n",
    "        \n",
    "manufacture_dict = create_dictionary(dataset_categorical_columns['Manufacturer'],dataset['Manufacturer'])\n",
    "category_dict = create_dictionary(dataset_categorical_columns['Category'],dataset['Category'])\n",
    "gear_box_dict = create_dictionary(dataset_categorical_columns['Gear box type'],dataset['Gear box type'])\n",
    "model_dict = create_dictionary(dataset_categorical_columns['Model'],dataset['Model'])"
   ]
  },
  {
   "cell_type": "code",
   "execution_count": 62,
   "id": "d758bd02-3140-4a97-ae2e-076e66346e92",
   "metadata": {},
   "outputs": [
    {
     "data": {
      "text/plain": [
       "Index(['Levy', 'Manufacturer', 'Category', 'Leather interior', 'Mileage_(km)',\n",
       "       'Gear box type', 'Airbags', 'Vehicle_age'],\n",
       "      dtype='object')"
      ]
     },
     "execution_count": 62,
     "metadata": {},
     "output_type": "execute_result"
    }
   ],
   "source": [
    "X_train.columns"
   ]
  },
  {
   "cell_type": "code",
   "execution_count": 71,
   "id": "bf4f7d20-de9f-486b-91c5-0100a3bae0da",
   "metadata": {},
   "outputs": [],
   "source": [
    "def predict_car_price(levy, manufacturer, category, \n",
    "                      leather_interior, mileage, \n",
    "                      gear_box_type, airbags,\n",
    "                      age):\n",
    "    manufacturer = manufacturer.upper()\n",
    "    category = category.upper()\n",
    "    gear_box_type = gear_box_type.upper()\n",
    "    \n",
    "    return forest_model.predict([[levy, manufacture_dict[manufacturer],\n",
    "                                category_dict[category],\n",
    "                                leather_interior, mileage,\n",
    "                                gear_box_dict[gear_box_type], airbags,\n",
    "                                age]])"
   ]
  },
  {
   "cell_type": "code",
   "execution_count": 72,
   "id": "f9e3a700-42b1-4c92-8517-4e6556945b39",
   "metadata": {
    "tags": []
   },
   "outputs": [
    {
     "data": {
      "text/html": [
       "<div>\n",
       "<style scoped>\n",
       "    .dataframe tbody tr th:only-of-type {\n",
       "        vertical-align: middle;\n",
       "    }\n",
       "\n",
       "    .dataframe tbody tr th {\n",
       "        vertical-align: top;\n",
       "    }\n",
       "\n",
       "    .dataframe thead th {\n",
       "        text-align: right;\n",
       "    }\n",
       "</style>\n",
       "<table border=\"1\" class=\"dataframe\">\n",
       "  <thead>\n",
       "    <tr style=\"text-align: right;\">\n",
       "      <th></th>\n",
       "      <th>Price</th>\n",
       "      <th>Levy</th>\n",
       "      <th>Manufacturer</th>\n",
       "      <th>Model</th>\n",
       "      <th>Category</th>\n",
       "      <th>Leather interior</th>\n",
       "      <th>Fuel type</th>\n",
       "      <th>Mileage_(km)</th>\n",
       "      <th>Cylinders</th>\n",
       "      <th>Gear box type</th>\n",
       "      <th>Drive wheels</th>\n",
       "      <th>Airbags</th>\n",
       "      <th>Vehicle_age</th>\n",
       "    </tr>\n",
       "  </thead>\n",
       "  <tbody>\n",
       "    <tr>\n",
       "      <th>0</th>\n",
       "      <td>13328</td>\n",
       "      <td>1399</td>\n",
       "      <td>LEXUS</td>\n",
       "      <td>RX 450</td>\n",
       "      <td>Jeep</td>\n",
       "      <td>1</td>\n",
       "      <td>Hybrid</td>\n",
       "      <td>186005.0</td>\n",
       "      <td>6.0</td>\n",
       "      <td>Automatic</td>\n",
       "      <td>4x4</td>\n",
       "      <td>12</td>\n",
       "      <td>12</td>\n",
       "    </tr>\n",
       "  </tbody>\n",
       "</table>\n",
       "</div>"
      ],
      "text/plain": [
       "   Price  Levy Manufacturer   Model Category  Leather interior Fuel type  \\\n",
       "0  13328  1399        LEXUS  RX 450     Jeep                 1    Hybrid   \n",
       "\n",
       "   Mileage_(km)  Cylinders Gear box type Drive wheels  Airbags  Vehicle_age  \n",
       "0      186005.0        6.0     Automatic          4x4       12           12  "
      ]
     },
     "execution_count": 72,
     "metadata": {},
     "output_type": "execute_result"
    }
   ],
   "source": [
    "dataset_categorical_columns.head(1)"
   ]
  },
  {
   "cell_type": "code",
   "execution_count": 73,
   "id": "b4288ac3-93c3-4be1-a9f2-504c0765d1eb",
   "metadata": {
    "tags": []
   },
   "outputs": [
    {
     "data": {
      "text/plain": [
       "{'JEEP': 4,\n",
       " 'HATCHBACK': 3,\n",
       " 'SEDAN': 9,\n",
       " 'MICROBUS': 6,\n",
       " 'GOODS WAGON': 2,\n",
       " 'UNIVERSAL': 10,\n",
       " 'COUPE': 1,\n",
       " 'MINIVAN': 7,\n",
       " 'CABRIOLET': 0,\n",
       " 'PICKUP': 8,\n",
       " 'LIMOUSINE': 5}"
      ]
     },
     "execution_count": 73,
     "metadata": {},
     "output_type": "execute_result"
    }
   ],
   "source": [
    "category_dict"
   ]
  },
  {
   "cell_type": "code",
   "execution_count": 74,
   "id": "4dd56d4f-5e49-47c9-829e-989f124631a9",
   "metadata": {
    "tags": []
   },
   "outputs": [
    {
     "name": "stderr",
     "output_type": "stream",
     "text": [
      "C:\\ProgramData\\anaconda3\\Lib\\site-packages\\sklearn\\base.py:464: UserWarning: X does not have valid feature names, but RandomForestRegressor was fitted with feature names\n",
      "  warnings.warn(\n"
     ]
    },
    {
     "data": {
      "text/plain": [
       "array([13314.71110356])"
      ]
     },
     "execution_count": 74,
     "metadata": {},
     "output_type": "execute_result"
    }
   ],
   "source": [
    "predict_car_price(1399, 'Lexus', 'jEEp', 1,  186005, 'automatic',  12, 12)"
   ]
  },
  {
   "cell_type": "markdown",
   "id": "d6ddaf8a-ccbc-4d2a-8ea9-7262ea3af97c",
   "metadata": {},
   "source": [
    "# Export"
   ]
  },
  {
   "cell_type": "code",
   "execution_count": 78,
   "id": "c6c02615-94cc-4df2-b5cc-a3dc9cdfb801",
   "metadata": {
    "tags": []
   },
   "outputs": [],
   "source": [
    "import pickle\n",
    "with open('used_car_prices_model.pickle','wb') as f:\n",
    "    pickle.dump(forest_model, f)"
   ]
  },
  {
   "cell_type": "code",
   "execution_count": 79,
   "id": "e481e3e4-7bdd-499f-8ed3-2732d1316faa",
   "metadata": {
    "tags": []
   },
   "outputs": [],
   "source": [
    "import json\n",
    "with open('Manufacturer_dict.json', 'w') as f:\n",
    "    json.dump(manufacture_dict, f)"
   ]
  },
  {
   "cell_type": "code",
   "execution_count": 80,
   "id": "98f30153-34e5-46f5-a700-b905af1ce702",
   "metadata": {
    "tags": []
   },
   "outputs": [],
   "source": [
    "with open('category_dict.json', 'w') as f:\n",
    "    json.dump(category_dict, f)\n",
    "with open('gear_box_dict.json', 'w') as f:\n",
    "    json.dump(gear_box_dict, f)  "
   ]
  },
  {
   "cell_type": "code",
   "execution_count": null,
   "id": "f8bae3e8-3140-4ad3-acf2-88eb686db51c",
   "metadata": {},
   "outputs": [],
   "source": []
  }
 ],
 "metadata": {
  "kernelspec": {
   "display_name": "Python 3 (ipykernel)",
   "language": "python",
   "name": "python3"
  },
  "language_info": {
   "codemirror_mode": {
    "name": "ipython",
    "version": 3
   },
   "file_extension": ".py",
   "mimetype": "text/x-python",
   "name": "python",
   "nbconvert_exporter": "python",
   "pygments_lexer": "ipython3",
   "version": "3.11.5"
  }
 },
 "nbformat": 4,
 "nbformat_minor": 5
}
